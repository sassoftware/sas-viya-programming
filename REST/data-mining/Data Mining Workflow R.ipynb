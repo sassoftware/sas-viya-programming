{
 "cells": [
  {
   "cell_type": "markdown",
   "metadata": {},
   "source": [
    "# This Notebook uses the R Kernel to Interact with CAS via REST!\n",
    "Copyright (c) 2017 SAS Institute Inc."
   ]
  },
  {
   "cell_type": "markdown",
   "metadata": {},
   "source": [
    "## Useful Functions"
   ]
  },
  {
   "cell_type": "markdown",
   "metadata": {},
   "source": [
    "### REST request"
   ]
  },
  {
   "cell_type": "code",
   "execution_count": 1,
   "metadata": {
    "collapsed": false
   },
   "outputs": [],
   "source": [
    "# Shortcut to help you perform actions without seeing REST request\n",
    "#\n",
    "# Parameters\n",
    "#   actionset.action: The API action endpoint to be performed\n",
    "#   params: The action parameters to be passed along with the request\n",
    "#\n",
    "# Return: The Response from the POST request\n",
    "\n",
    "makeRequest <- function(actionset.action, params){\n",
    "    return(POST(\n",
    "        paste(hostname, 'cas', 'sessions', sess, 'actions', actionset.action, sep='/'),\n",
    "        body = params,\n",
    "        authenticate(username, pwd),\n",
    "        content_type('application/json'),\n",
    "        accept_json(),\n",
    "        encode='json',\n",
    "        verbose()))\n",
    "}"
   ]
  },
  {
   "cell_type": "markdown",
   "metadata": {},
   "source": [
    "### Action output"
   ]
  },
  {
   "cell_type": "code",
   "execution_count": 2,
   "metadata": {
    "collapsed": false
   },
   "outputs": [],
   "source": [
    "# Automatically display the results of an action as a list with headers (headers can be turned off)\n",
    "#\n",
    "# Parameters\n",
    "#   varname: The object returned by the 'makeRequest' function which contains a server response\n",
    "#   result: Action Dependent name of result specified in JSON\n",
    "#   header: Optional parameter to specify part of output\n",
    "#\n",
    "# Return: The pretty printed output of the JSON from the server\n",
    "\n",
    "pprint <- function(varname, result, header){\n",
    "    if (is.null(content(varname)$results[[result]]$rows) == F) {\n",
    "    df <-t(as.data.table(content(varname)$results[[result]]$rows))\n",
    "    cols <- which(names(unlist(content(varname)$results[[result]]$schema))=='name')\n",
    "    colnames(df) <- c(t(unlist(content(varname)$results[[result]]$schema)[cols]))\n",
    "    rownames(df) <- NULL\n",
    "    } else {df <- data.frame(content(varname)$results[[result]])}\n",
    "    if (header) {return(list(result, df))} else {return(output <- df)}\n",
    "}\n",
    "\n",
    "# Parses JSON that is returned by CAS and returns as a list\n",
    "#\n",
    "# Parameters\n",
    "#   varname: The object returned by the 'makeRequest' function which contains a server response\n",
    "#   header: Optional parameter to specify part of output, DEFAULT: True\n",
    "#\n",
    "actionOutput <- function(var, header = T){\n",
    "    return(lapply(names((lapply(content(var)$results, '[[', 1))), pprint, varname = var, header = header))\n",
    "}"
   ]
  },
  {
   "cell_type": "markdown",
   "metadata": {},
   "source": [
    "### CAS action"
   ]
  },
  {
   "cell_type": "code",
   "execution_count": 3,
   "metadata": {
    "collapsed": false
   },
   "outputs": [],
   "source": [
    "# To be run like a CAS action, sends the request and parses the response\n",
    "#\n",
    "# Parameters\n",
    "#   actionset.action: The name of the API endpoint action to execute\n",
    "#   params: optional parameters if needed by the API endpoint\n",
    "#   output: By Default, T specifies we want to surface the response to the notebook UI, DEFAULT: T\n",
    "#   header: Optional parameter to specify part of output, DEFAULT: T\n",
    "#\n",
    "# Return: The Error message, or the pretty printed output from 'actionOutput' function\n",
    "\n",
    "casAction <- function(actionset.action, params, output = T, header = T){\n",
    "    var <- makeRequest(actionset.action, params)\n",
    "    if (grepl('ERROR', content(var)$log)) {return(content(var)$log)} else\n",
    "    if (output == T) {if (header) {return(actionOutput(var))} else {return(data.frame(actionOutput(var, header)))}}\n",
    "}"
   ]
  },
  {
   "cell_type": "markdown",
   "metadata": {},
   "source": [
    "### Fetch data"
   ]
  },
  {
   "cell_type": "code",
   "execution_count": 4,
   "metadata": {
    "collapsed": true
   },
   "outputs": [],
   "source": [
    "# A function meant to be a Fetch shortcut, (defaults to 10 rows, 10,000 row limit)\n",
    "#\n",
    "# Parameters\n",
    "#   tbl: Name of the table to perform the 'table.fetch' action on\n",
    "#   to: Number of rows to fetch, DEFAULT: 10\n",
    "#   maxRows: Max number of rows to fetch, DEFAULT: 10000\n",
    "# Return: The output formatted to look like a DataFrame\n",
    "\n",
    "fetch <- function(tbl, to = 10, maxRows = 10000){\n",
    "    req <- makeRequest('table.fetch', list(table = tbl, to = to, maxRows = maxRows))\n",
    "    df <-t(as.data.table(content(req)$results$Fetch$rows))\n",
    "    cols <- which(names(unlist(content(req)$results$Fetch$schema))=='name')\n",
    "    colnames(df) <- c(t(unlist(content(req)$results$Fetch$schema)[cols]))\n",
    "    rownames(df) <- df[, 1]\n",
    "    return(df[, -1])\n",
    "}"
   ]
  },
  {
   "cell_type": "markdown",
   "metadata": {},
   "source": [
    "### Bring all data locally"
   ]
  },
  {
   "cell_type": "code",
   "execution_count": 5,
   "metadata": {
    "collapsed": true
   },
   "outputs": [],
   "source": [
    "# A function that allows you to pull the data from CAS into client memory for full R functionality\n",
    "#\n",
    "# Parameters\n",
    "#   tbl: Name of the table to load locally\n",
    "# Return: The output formatted to look like a DataFrame\n",
    "\n",
    "toFrame <- function (tbl){\n",
    "    casAction('cardinality.summarize', list(table = tbl, cardinality = list(name = 'cols', replace = T)))\n",
    "    nrows <- unlist(actionOutput(makeRequest('fedSQL.execDirect', list(query = paste(\"SELECT COUNT(*) FROM\", tbl))), F))\n",
    "    tmp <- fetch('cols', to = nrows, maxRows = nrows)            # get all rows\n",
    "    colnames(tmp) <- gsub('_',  '', colnames(tmp), fixed = TRUE) # substitute out underscores in column names\n",
    "    tmp[,1] <- gsub('_', '', tmp[,1])                            # substitute out underscores in first column\n",
    "    tmp <- data.frame(tmp)                                       # convert to a data frame\n",
    "    n <- unlist(subset(tmp, TYPE == 'N')$VARNAME)                # find the numeric variables\n",
    "    tmp <- fetch(tbl, to = nrows, maxRows = nrows)               # get all rows\n",
    "    colnames(tmp) <- gsub('_',  '', colnames(tmp), fixed = TRUE) # substitute out underscores in column names\n",
    "    tmp <- data.frame(tmp)\n",
    "    tmp <- data.frame(lapply(tmp, as.character), stringsAsFactors = FALSE)\n",
    "    tmp[, n] <- apply(tmp[, n], 2, function(x) as.numeric(x))    # replace char with numeric for numeric\n",
    "    tmp[tmp == ''] <- NA\n",
    "    return(tmp)\n",
    "}"
   ]
  },
  {
   "cell_type": "markdown",
   "metadata": {},
   "source": [
    "## Setup the Jupyter Notebook for Analysis"
   ]
  },
  {
   "cell_type": "code",
   "execution_count": 6,
   "metadata": {
    "collapsed": false
   },
   "outputs": [
    {
     "name": "stdout",
     "output_type": "stream",
     "text": [
      "\n",
      "\n"
     ]
    }
   ],
   "source": [
    "# Load the necessary packages\n",
    "suppressPackageStartupMessages(library(reshape2))\n",
    "suppressPackageStartupMessages(library(data.table))\n",
    "library(httr)\n",
    "library(ggplot2)\n",
    "options(warn=-1)\n",
    "\n",
    "# Define hostname, data file, and credentials\n",
    "hostname   <- 'hostname:port'\n",
    "indata     <- 'hmeq' #sas7bdat\n",
    "indata_dir <-'/viyafiles' #location of the file\n",
    "username   <- 'username'\n",
    "pwd        <- 'password'\n",
    "\n",
    "# Create a new session\n",
    "sess <- content(POST(paste(hostname, 'cas', 'sessions', sep='/'), authenticate(username, pwd)))$session\n",
    "\n",
    "# Create a CAS library called DMLib pointing to the defined directory\n",
    "## Note, need to specify the srctype is path, otherwise it defaults to HDFS\n",
    "DMlib <- makeRequest('table.addCaslib', list(name = 'DMlib', dataSource = list(srcType = 'path'), path = indata_dir))\n",
    "\n",
    "# Load the relevant tables In-Memory if they do not already exist\n",
    "## Note, this is a server side data load, not being loaded from the client, name sure to have the appropriate file type\n",
    "inMem <- makeRequest('table.loadtable', list(path = paste0(indata,'.sas7bdat'), casOut = indata))"
   ]
  },
  {
   "cell_type": "markdown",
   "metadata": {},
   "source": [
    "## Investigate the Data"
   ]
  },
  {
   "cell_type": "code",
   "execution_count": 7,
   "metadata": {
    "collapsed": false
   },
   "outputs": [
    {
     "name": "stdout",
     "output_type": "stream",
     "text": [
      "\n"
     ]
    },
    {
     "data": {
      "text/html": [
       "<table>\n",
       "<thead><tr><th></th><th scope=col>BAD</th><th scope=col>LOAN</th><th scope=col>MORTDUE</th><th scope=col>VALUE</th><th scope=col>REASON</th><th scope=col>JOB</th><th scope=col>YOJ</th><th scope=col>DEROG</th><th scope=col>DELINQ</th><th scope=col>CLAGE</th><th scope=col>NINQ</th><th scope=col>CLNO</th><th scope=col>DEBTINC</th></tr></thead>\n",
       "<tbody>\n",
       "\t<tr><th scope=row>1</th><td>1       </td><td>1100    </td><td>25860   </td><td>39025   </td><td>HomeImp </td><td>Other   </td><td>10.5    </td><td>0       </td><td>0       </td><td>94.36667</td><td>1       </td><td>9       </td><td>NULL    </td></tr>\n",
       "\t<tr><th scope=row>2</th><td>1       </td><td>1300    </td><td>70053   </td><td>68400   </td><td>HomeImp </td><td>Other   </td><td>7       </td><td>0       </td><td>2       </td><td>121.8333</td><td>0       </td><td>14      </td><td>NULL    </td></tr>\n",
       "\t<tr><th scope=row>3</th><td>1       </td><td>1500    </td><td>13500   </td><td>16700   </td><td>HomeImp </td><td>Other   </td><td>4       </td><td>0       </td><td>0       </td><td>149.4667</td><td>1       </td><td>10      </td><td>NULL    </td></tr>\n",
       "\t<tr><th scope=row>4</th><td>1   </td><td>1500</td><td>NULL</td><td>NULL</td><td>    </td><td>    </td><td>NULL</td><td>NULL</td><td>NULL</td><td>NULL</td><td>NULL</td><td>NULL</td><td>NULL</td></tr>\n",
       "\t<tr><th scope=row>5</th><td>0       </td><td>1700    </td><td>97800   </td><td>112000  </td><td>HomeImp </td><td>Office  </td><td>3       </td><td>0       </td><td>0       </td><td>93.33333</td><td>0       </td><td>14      </td><td>NULL    </td></tr>\n",
       "\t<tr><th scope=row>6</th><td>1       </td><td>1700    </td><td>30548   </td><td>40320   </td><td>HomeImp </td><td>Other   </td><td>9       </td><td>0       </td><td>0       </td><td>101.466 </td><td>1       </td><td>8       </td><td>37.11361</td></tr>\n",
       "\t<tr><th scope=row>7</th><td>1      </td><td>1800   </td><td>48649  </td><td>57037  </td><td>HomeImp</td><td>Other  </td><td>5      </td><td>3      </td><td>2      </td><td>77.1   </td><td>1      </td><td>17     </td><td>NULL   </td></tr>\n",
       "\t<tr><th scope=row>8</th><td>1       </td><td>1800    </td><td>28502   </td><td>43034   </td><td>HomeImp </td><td>Other   </td><td>11      </td><td>0       </td><td>0       </td><td>88.76603</td><td>0       </td><td>8       </td><td>36.88489</td></tr>\n",
       "\t<tr><th scope=row>9</th><td>1       </td><td>2000    </td><td>32700   </td><td>46740   </td><td>HomeImp </td><td>Other   </td><td>3       </td><td>0       </td><td>2       </td><td>216.9333</td><td>1       </td><td>12      </td><td>NULL    </td></tr>\n",
       "\t<tr><th scope=row>10</th><td>1      </td><td>2000   </td><td>NULL   </td><td>62250  </td><td>HomeImp</td><td>Sales  </td><td>16     </td><td>0      </td><td>0      </td><td>115.8  </td><td>0      </td><td>13     </td><td>NULL   </td></tr>\n",
       "</tbody>\n",
       "</table>\n"
      ],
      "text/latex": [
       "\\begin{tabular}{r|lllllllllllll}\n",
       "  & BAD & LOAN & MORTDUE & VALUE & REASON & JOB & YOJ & DEROG & DELINQ & CLAGE & NINQ & CLNO & DEBTINC\\\\\n",
       "\\hline\n",
       "\t1 & 1        & 1100     & 25860    & 39025    & HomeImp  & Other    & 10.5     & 0        & 0        & 94.36667 & 1        & 9        & NULL    \\\\\n",
       "\t2 & 1        & 1300     & 70053    & 68400    & HomeImp  & Other    & 7        & 0        & 2        & 121.8333 & 0        & 14       & NULL    \\\\\n",
       "\t3 & 1        & 1500     & 13500    & 16700    & HomeImp  & Other    & 4        & 0        & 0        & 149.4667 & 1        & 10       & NULL    \\\\\n",
       "\t4 & 1    & 1500 & NULL & NULL &      &      & NULL & NULL & NULL & NULL & NULL & NULL & NULL\\\\\n",
       "\t5 & 0        & 1700     & 97800    & 112000   & HomeImp  & Office   & 3        & 0        & 0        & 93.33333 & 0        & 14       & NULL    \\\\\n",
       "\t6 & 1        & 1700     & 30548    & 40320    & HomeImp  & Other    & 9        & 0        & 0        & 101.466  & 1        & 8        & 37.11361\\\\\n",
       "\t7 & 1       & 1800    & 48649   & 57037   & HomeImp & Other   & 5       & 3       & 2       & 77.1    & 1       & 17      & NULL   \\\\\n",
       "\t8 & 1        & 1800     & 28502    & 43034    & HomeImp  & Other    & 11       & 0        & 0        & 88.76603 & 0        & 8        & 36.88489\\\\\n",
       "\t9 & 1        & 2000     & 32700    & 46740    & HomeImp  & Other    & 3        & 0        & 2        & 216.9333 & 1        & 12       & NULL    \\\\\n",
       "\t10 & 1       & 2000    & NULL    & 62250   & HomeImp & Sales   & 16      & 0       & 0       & 115.8   & 0       & 13      & NULL   \\\\\n",
       "\\end{tabular}\n"
      ],
      "text/markdown": [
       "\n",
       "| <!--/--> | BAD | LOAN | MORTDUE | VALUE | REASON | JOB | YOJ | DEROG | DELINQ | CLAGE | NINQ | CLNO | DEBTINC | \n",
       "|---|---|---|---|---|---|---|---|---|---|\n",
       "| 1 | 1        | 1100     | 25860    | 39025    | HomeImp  | Other    | 10.5     | 0        | 0        | 94.36667 | 1        | 9        | NULL     | \n",
       "| 2 | 1        | 1300     | 70053    | 68400    | HomeImp  | Other    | 7        | 0        | 2        | 121.8333 | 0        | 14       | NULL     | \n",
       "| 3 | 1        | 1500     | 13500    | 16700    | HomeImp  | Other    | 4        | 0        | 0        | 149.4667 | 1        | 10       | NULL     | \n",
       "| 4 | 1    | 1500 | NULL | NULL |      |      | NULL | NULL | NULL | NULL | NULL | NULL | NULL | \n",
       "| 5 | 0        | 1700     | 97800    | 112000   | HomeImp  | Office   | 3        | 0        | 0        | 93.33333 | 0        | 14       | NULL     | \n",
       "| 6 | 1        | 1700     | 30548    | 40320    | HomeImp  | Other    | 9        | 0        | 0        | 101.466  | 1        | 8        | 37.11361 | \n",
       "| 7 | 1       | 1800    | 48649   | 57037   | HomeImp | Other   | 5       | 3       | 2       | 77.1    | 1       | 17      | NULL    | \n",
       "| 8 | 1        | 1800     | 28502    | 43034    | HomeImp  | Other    | 11       | 0        | 0        | 88.76603 | 0        | 8        | 36.88489 | \n",
       "| 9 | 1        | 2000     | 32700    | 46740    | HomeImp  | Other    | 3        | 0        | 2        | 216.9333 | 1        | 12       | NULL     | \n",
       "| 10 | 1       | 2000    | NULL    | 62250   | HomeImp | Sales   | 16      | 0       | 0       | 115.8   | 0       | 13      | NULL    | \n",
       "\n",
       "\n"
      ],
      "text/plain": [
       "   BAD LOAN MORTDUE VALUE  REASON  JOB    YOJ  DEROG DELINQ CLAGE    NINQ CLNO\n",
       "1  1   1100 25860   39025  HomeImp Other  10.5 0     0      94.36667 1    9   \n",
       "2  1   1300 70053   68400  HomeImp Other  7    0     2      121.8333 0    14  \n",
       "3  1   1500 13500   16700  HomeImp Other  4    0     0      149.4667 1    10  \n",
       "4  1   1500 NULL    NULL                  NULL NULL  NULL   NULL     NULL NULL\n",
       "5  0   1700 97800   112000 HomeImp Office 3    0     0      93.33333 0    14  \n",
       "6  1   1700 30548   40320  HomeImp Other  9    0     0      101.466  1    8   \n",
       "7  1   1800 48649   57037  HomeImp Other  5    3     2      77.1     1    17  \n",
       "8  1   1800 28502   43034  HomeImp Other  11   0     0      88.76603 0    8   \n",
       "9  1   2000 32700   46740  HomeImp Other  3    0     2      216.9333 1    12  \n",
       "10 1   2000 NULL    62250  HomeImp Sales  16   0     0      115.8    0    13  \n",
       "   DEBTINC \n",
       "1  NULL    \n",
       "2  NULL    \n",
       "3  NULL    \n",
       "4  NULL    \n",
       "5  NULL    \n",
       "6  37.11361\n",
       "7  NULL    \n",
       "8  36.88489\n",
       "9  NULL    \n",
       "10 NULL    "
      ]
     },
     "metadata": {},
     "output_type": "display_data"
    }
   ],
   "source": [
    "fetch(indata)"
   ]
  },
  {
   "cell_type": "markdown",
   "metadata": {},
   "source": [
    "## Creating a Repeatable Process"
   ]
  },
  {
   "cell_type": "markdown",
   "metadata": {},
   "source": [
    "#### Every time we want to perform an action via REST APIs,  we will have to do the previous steps of making the request and parsing the response. To make our lives easier, we've created wrapper functions to clean up the code.\n",
    "\n",
    "##### <font color='blue'>['makeRequest'](#REST-request)</font> is a function that will perform an http request given a cas action to perform and optional parameters to pass along\n",
    "##### <font color='blue'>['actionOutput'](#Action-output)</font> and <font color='blue'>['pprint'](#Action-output)</font> are functions that handle the parsing of a response as a result of an http request\n",
    "##### <font color='blue'>['casAction'](#CAS-action) </font> is a wrapper for the 3 previous functions, enabling us to make a one line call that will make the request, parse the response and output it to the notebook"
   ]
  },
  {
   "cell_type": "markdown",
   "metadata": {},
   "source": [
    "## Get Summary Statistics"
   ]
  },
  {
   "cell_type": "code",
   "execution_count": 8,
   "metadata": {
    "collapsed": false
   },
   "outputs": [
    {
     "name": "stdout",
     "output_type": "stream",
     "text": [
      "\n"
     ]
    },
    {
     "data": {
      "text/html": [
       "<ol>\n",
       "</ol>\n"
      ],
      "text/latex": [
       "\\begin{enumerate}\n",
       "\\end{enumerate}\n"
      ],
      "text/markdown": [
       "\n",
       "\n"
      ],
      "text/plain": [
       "list()"
      ]
     },
     "metadata": {},
     "output_type": "display_data"
    },
    {
     "name": "stdout",
     "output_type": "stream",
     "text": [
      "\n",
      "\n",
      "\n",
      "\n"
     ]
    },
    {
     "data": {
      "text/plain": [
       "[1] Summary Statistics:"
      ]
     },
     "metadata": {},
     "output_type": "display_data"
    },
    {
     "data": {
      "text/html": [
       "<table>\n",
       "<thead><tr><th scope=col>VARNAME</th><th scope=col>TYPE</th><th scope=col>PCTMISS</th><th scope=col>NMISS</th><th scope=col>NOBS</th><th scope=col>MIN</th><th scope=col>MAX</th><th scope=col>MEAN</th><th scope=col>STDDEV</th><th scope=col>SKEWNESS</th><th scope=col>KURTOSIS</th></tr></thead>\n",
       "<tbody>\n",
       "\t<tr><td>BAD         </td><td>N           </td><td>0.00000000  </td><td>   0        </td><td>5960        </td><td>   0.0000000</td><td>     1.0000 </td><td>1.994966e-01</td><td>3.996555e-01</td><td>1.5043167   </td><td> 0.2630568  </td></tr>\n",
       "\t<tr><td>LOAN        </td><td>N           </td><td>0.00000000  </td><td>   0        </td><td>5960        </td><td>1100.0000000</td><td> 89900.0000 </td><td>1.860797e+04</td><td>1.120748e+04</td><td>2.0237807   </td><td> 6.9325898  </td></tr>\n",
       "\t<tr><td>MORTDUE     </td><td>N           </td><td>0.08691275  </td><td> 518        </td><td>5960        </td><td>2063.0000000</td><td>399550.0000 </td><td>7.376082e+04</td><td>4.445761e+04</td><td>1.8144807   </td><td> 6.4818663  </td></tr>\n",
       "\t<tr><td>VALUE       </td><td>N           </td><td>0.01879195  </td><td> 112        </td><td>5960        </td><td>8000.0000000</td><td>855909.0000 </td><td>1.017760e+05</td><td>5.738578e+04</td><td>3.0533443   </td><td>24.3628049  </td></tr>\n",
       "\t<tr><td>REASON      </td><td>C           </td><td>0.04228188  </td><td> 252        </td><td>5960        </td><td>          NA</td><td>         NA </td><td>          NA</td><td>          NA</td><td>       NA   </td><td>        NA  </td></tr>\n",
       "\t<tr><td>JOB         </td><td>C           </td><td>0.04681208  </td><td> 279        </td><td>5960        </td><td>          NA</td><td>         NA </td><td>          NA</td><td>          NA</td><td>       NA   </td><td>        NA  </td></tr>\n",
       "\t<tr><td>YOJ         </td><td>N           </td><td>0.08640940  </td><td> 515        </td><td>5960        </td><td>   0.0000000</td><td>    41.0000 </td><td>8.922268e+00</td><td>7.573982e+00</td><td>0.9884601   </td><td> 0.3720725  </td></tr>\n",
       "\t<tr><td>DEROG       </td><td>N           </td><td>0.11879195  </td><td> 708        </td><td>5960        </td><td>   0.0000000</td><td>    10.0000 </td><td>2.545697e-01</td><td>8.460468e-01</td><td>5.3208703   </td><td>36.8727634  </td></tr>\n",
       "\t<tr><td>DELINQ      </td><td>N           </td><td>0.09731544  </td><td> 580        </td><td>5960        </td><td>   0.0000000</td><td>    15.0000 </td><td>4.494424e-01</td><td>1.127266e+00</td><td>4.0231496   </td><td>23.5654487  </td></tr>\n",
       "\t<tr><td>CLAGE       </td><td>N           </td><td>0.05167785  </td><td> 308        </td><td>5960        </td><td>   0.0000000</td><td>  1168.2336 </td><td>1.797663e+02</td><td>8.581009e+01</td><td>1.3434120   </td><td> 7.5995493  </td></tr>\n",
       "\t<tr><td>NINQ        </td><td>N           </td><td>0.08557047  </td><td> 510        </td><td>5960        </td><td>   0.0000000</td><td>    17.0000 </td><td>1.186055e+00</td><td>1.728675e+00</td><td>2.6219842   </td><td> 9.7865073  </td></tr>\n",
       "\t<tr><td>CLNO        </td><td>N           </td><td>0.03724832  </td><td> 222        </td><td>5960        </td><td>   0.0000000</td><td>    71.0000 </td><td>2.129610e+01</td><td>1.013893e+01</td><td>0.7750518   </td><td> 1.1576727  </td></tr>\n",
       "\t<tr><td>DEBTINC     </td><td>N           </td><td>0.21258389  </td><td>1267        </td><td>5960        </td><td>   0.5244992</td><td>   203.3121 </td><td>3.377992e+01</td><td>8.601746e+00</td><td>2.8523534   </td><td>50.5040415  </td></tr>\n",
       "</tbody>\n",
       "</table>\n"
      ],
      "text/latex": [
       "\\begin{tabular}{r|lllllllllll}\n",
       " VARNAME & TYPE & PCTMISS & NMISS & NOBS & MIN & MAX & MEAN & STDDEV & SKEWNESS & KURTOSIS\\\\\n",
       "\\hline\n",
       "\t BAD          & N            & 0.00000000   &    0         & 5960         &    0.0000000 &      1.0000  & 1.994966e-01 & 3.996555e-01 & 1.5043167    &  0.2630568  \\\\\n",
       "\t LOAN         & N            & 0.00000000   &    0         & 5960         & 1100.0000000 &  89900.0000  & 1.860797e+04 & 1.120748e+04 & 2.0237807    &  6.9325898  \\\\\n",
       "\t MORTDUE      & N            & 0.08691275   &  518         & 5960         & 2063.0000000 & 399550.0000  & 7.376082e+04 & 4.445761e+04 & 1.8144807    &  6.4818663  \\\\\n",
       "\t VALUE        & N            & 0.01879195   &  112         & 5960         & 8000.0000000 & 855909.0000  & 1.017760e+05 & 5.738578e+04 & 3.0533443    & 24.3628049  \\\\\n",
       "\t REASON       & C            & 0.04228188   &  252         & 5960         &           NA &          NA  &           NA &           NA &        NA    &         NA  \\\\\n",
       "\t JOB          & C            & 0.04681208   &  279         & 5960         &           NA &          NA  &           NA &           NA &        NA    &         NA  \\\\\n",
       "\t YOJ          & N            & 0.08640940   &  515         & 5960         &    0.0000000 &     41.0000  & 8.922268e+00 & 7.573982e+00 & 0.9884601    &  0.3720725  \\\\\n",
       "\t DEROG        & N            & 0.11879195   &  708         & 5960         &    0.0000000 &     10.0000  & 2.545697e-01 & 8.460468e-01 & 5.3208703    & 36.8727634  \\\\\n",
       "\t DELINQ       & N            & 0.09731544   &  580         & 5960         &    0.0000000 &     15.0000  & 4.494424e-01 & 1.127266e+00 & 4.0231496    & 23.5654487  \\\\\n",
       "\t CLAGE        & N            & 0.05167785   &  308         & 5960         &    0.0000000 &   1168.2336  & 1.797663e+02 & 8.581009e+01 & 1.3434120    &  7.5995493  \\\\\n",
       "\t NINQ         & N            & 0.08557047   &  510         & 5960         &    0.0000000 &     17.0000  & 1.186055e+00 & 1.728675e+00 & 2.6219842    &  9.7865073  \\\\\n",
       "\t CLNO         & N            & 0.03724832   &  222         & 5960         &    0.0000000 &     71.0000  & 2.129610e+01 & 1.013893e+01 & 0.7750518    &  1.1576727  \\\\\n",
       "\t DEBTINC      & N            & 0.21258389   & 1267         & 5960         &    0.5244992 &    203.3121  & 3.377992e+01 & 8.601746e+00 & 2.8523534    & 50.5040415  \\\\\n",
       "\\end{tabular}\n"
      ],
      "text/markdown": [
       "\n",
       "VARNAME | TYPE | PCTMISS | NMISS | NOBS | MIN | MAX | MEAN | STDDEV | SKEWNESS | KURTOSIS | \n",
       "|---|---|---|---|---|---|---|---|---|---|---|---|---|\n",
       "| BAD          | N            | 0.00000000   |    0         | 5960         |    0.0000000 |      1.0000  | 1.994966e-01 | 3.996555e-01 | 1.5043167    |  0.2630568   | \n",
       "| LOAN         | N            | 0.00000000   |    0         | 5960         | 1100.0000000 |  89900.0000  | 1.860797e+04 | 1.120748e+04 | 2.0237807    |  6.9325898   | \n",
       "| MORTDUE      | N            | 0.08691275   |  518         | 5960         | 2063.0000000 | 399550.0000  | 7.376082e+04 | 4.445761e+04 | 1.8144807    |  6.4818663   | \n",
       "| VALUE        | N            | 0.01879195   |  112         | 5960         | 8000.0000000 | 855909.0000  | 1.017760e+05 | 5.738578e+04 | 3.0533443    | 24.3628049   | \n",
       "| REASON       | C            | 0.04228188   |  252         | 5960         |           NA |          NA  |           NA |           NA |        NA    |         NA   | \n",
       "| JOB          | C            | 0.04681208   |  279         | 5960         |           NA |          NA  |           NA |           NA |        NA    |         NA   | \n",
       "| YOJ          | N            | 0.08640940   |  515         | 5960         |    0.0000000 |     41.0000  | 8.922268e+00 | 7.573982e+00 | 0.9884601    |  0.3720725   | \n",
       "| DEROG        | N            | 0.11879195   |  708         | 5960         |    0.0000000 |     10.0000  | 2.545697e-01 | 8.460468e-01 | 5.3208703    | 36.8727634   | \n",
       "| DELINQ       | N            | 0.09731544   |  580         | 5960         |    0.0000000 |     15.0000  | 4.494424e-01 | 1.127266e+00 | 4.0231496    | 23.5654487   | \n",
       "| CLAGE        | N            | 0.05167785   |  308         | 5960         |    0.0000000 |   1168.2336  | 1.797663e+02 | 8.581009e+01 | 1.3434120    |  7.5995493   | \n",
       "| NINQ         | N            | 0.08557047   |  510         | 5960         |    0.0000000 |     17.0000  | 1.186055e+00 | 1.728675e+00 | 2.6219842    |  9.7865073   | \n",
       "| CLNO         | N            | 0.03724832   |  222         | 5960         |    0.0000000 |     71.0000  | 2.129610e+01 | 1.013893e+01 | 0.7750518    |  1.1576727   | \n",
       "| DEBTINC      | N            | 0.21258389   | 1267         | 5960         |    0.5244992 |    203.3121  | 3.377992e+01 | 8.601746e+00 | 2.8523534    | 50.5040415   | \n",
       "\n",
       "\n"
      ],
      "text/plain": [
       "   VARNAME TYPE PCTMISS    NMISS NOBS MIN          MAX         MEAN        \n",
       "1  BAD     N    0.00000000    0  5960    0.0000000      1.0000 1.994966e-01\n",
       "2  LOAN    N    0.00000000    0  5960 1100.0000000  89900.0000 1.860797e+04\n",
       "3  MORTDUE N    0.08691275  518  5960 2063.0000000 399550.0000 7.376082e+04\n",
       "4  VALUE   N    0.01879195  112  5960 8000.0000000 855909.0000 1.017760e+05\n",
       "5  REASON  C    0.04228188  252  5960           NA          NA           NA\n",
       "6  JOB     C    0.04681208  279  5960           NA          NA           NA\n",
       "7  YOJ     N    0.08640940  515  5960    0.0000000     41.0000 8.922268e+00\n",
       "8  DEROG   N    0.11879195  708  5960    0.0000000     10.0000 2.545697e-01\n",
       "9  DELINQ  N    0.09731544  580  5960    0.0000000     15.0000 4.494424e-01\n",
       "10 CLAGE   N    0.05167785  308  5960    0.0000000   1168.2336 1.797663e+02\n",
       "11 NINQ    N    0.08557047  510  5960    0.0000000     17.0000 1.186055e+00\n",
       "12 CLNO    N    0.03724832  222  5960    0.0000000     71.0000 2.129610e+01\n",
       "13 DEBTINC N    0.21258389 1267  5960    0.5244992    203.3121 3.377992e+01\n",
       "   STDDEV       SKEWNESS  KURTOSIS  \n",
       "1  3.996555e-01 1.5043167  0.2630568\n",
       "2  1.120748e+04 2.0237807  6.9325898\n",
       "3  4.445761e+04 1.8144807  6.4818663\n",
       "4  5.738578e+04 3.0533443 24.3628049\n",
       "5            NA        NA         NA\n",
       "6            NA        NA         NA\n",
       "7  7.573982e+00 0.9884601  0.3720725\n",
       "8  8.460468e-01 5.3208703 36.8727634\n",
       "9  1.127266e+00 4.0231496 23.5654487\n",
       "10 8.581009e+01 1.3434120  7.5995493\n",
       "11 1.728675e+00 2.6219842  9.7865073\n",
       "12 1.013893e+01 0.7750518  1.1576727\n",
       "13 8.601746e+00 2.8523534 50.5040415"
      ]
     },
     "metadata": {},
     "output_type": "display_data"
    }
   ],
   "source": [
    "# Use CAS to get table of summary statistics\n",
    "casAction('cardinality.summarize', list(table = indata, cardinality = list(name = 'data.card', replace = T)))\n",
    "\n",
    "# Bring data to local dataframe\n",
    "data.card <- toFrame('data.card')\n",
    "\n",
    "# Manipulate dataframe using R syntax to present\n",
    "data.card$PCTMISS <- with(data.card, NMISS/NOBS)\n",
    "noquote('Summary Statistics:')\n",
    "data.card[c('VARNAME','TYPE','PCTMISS','NMISS','NOBS', 'MIN','MAX','MEAN','STDDEV','SKEWNESS','KURTOSIS')]"
   ]
  },
  {
   "cell_type": "code",
   "execution_count": 9,
   "metadata": {
    "collapsed": false
   },
   "outputs": [
    {
     "name": "stdout",
     "output_type": "stream",
     "text": [
      "\n",
      "\n",
      "\n",
      "\n"
     ]
    },
    {
     "data": {},
     "metadata": {},
     "output_type": "display_data"
    },
    {
     "data": {
      "image/png": "[encoded data removed]",
      "text/plain": [
       "plot without title"
      ]
     },
     "metadata": {},
     "output_type": "display_data"
    }
   ],
   "source": [
    "df <- toFrame(indata)\n",
    "d <- melt(df[sapply(df, is.numeric)], id.vars=NULL)\n",
    "ggplot(d,aes(x = value)) + \n",
    "    facet_wrap(~variable,scales = 'free_x') + \n",
    "    geom_histogram(fill = 'blue', bins = 25) "
   ]
  },
  {
   "cell_type": "markdown",
   "metadata": {},
   "source": [
    "## Impute Missing Values"
   ]
  },
  {
   "cell_type": "code",
   "execution_count": 10,
   "metadata": {
    "collapsed": false
   },
   "outputs": [
    {
     "name": "stdout",
     "output_type": "stream",
     "text": [
      "\n",
      "\n"
     ]
    },
    {
     "data": {
      "text/html": [
       "<table>\n",
       "<thead><tr><th></th><th scope=col>BAD</th><th scope=col>LOAN</th><th scope=col>MORTDUE</th><th scope=col>VALUE</th><th scope=col>REASON</th><th scope=col>JOB</th><th scope=col>YOJ</th><th scope=col>DEROG</th><th scope=col>DELINQ</th><th scope=col>CLAGE</th><th scope=col>...</th><th scope=col>IMP_DEBTINC</th><th scope=col>IMP_DELINQ</th><th scope=col>IMP_DEROG</th><th scope=col>IMP_LOAN</th><th scope=col>IMP_MORTDUE</th><th scope=col>IMP_NINQ</th><th scope=col>IMP_VALUE</th><th scope=col>IMP_YOJ</th><th scope=col>IMP_JOB</th><th scope=col>IMP_REASON</th></tr></thead>\n",
       "<tbody>\n",
       "\t<tr><th scope=row>1</th><td>1       </td><td>1100    </td><td>25860   </td><td>39025   </td><td>HomeImp </td><td>Other   </td><td>10.5    </td><td>0       </td><td>0       </td><td>94.36667</td><td>...     </td><td>34.81826</td><td>0       </td><td>0       </td><td>1100    </td><td>25860   </td><td>1       </td><td>39025   </td><td>10.5    </td><td>Other   </td><td>HomeImp </td></tr>\n",
       "\t<tr><th scope=row>2</th><td>1       </td><td>1300    </td><td>70053   </td><td>68400   </td><td>HomeImp </td><td>Other   </td><td>7       </td><td>0       </td><td>2       </td><td>121.8333</td><td>...     </td><td>34.81826</td><td>2       </td><td>0       </td><td>1300    </td><td>70053   </td><td>0       </td><td>68400   </td><td>7       </td><td>Other   </td><td>HomeImp </td></tr>\n",
       "\t<tr><th scope=row>3</th><td>1       </td><td>1500    </td><td>13500   </td><td>16700   </td><td>HomeImp </td><td>Other   </td><td>4       </td><td>0       </td><td>0       </td><td>149.4667</td><td>...     </td><td>34.81826</td><td>0       </td><td>0       </td><td>1500    </td><td>13500   </td><td>1       </td><td>16700   </td><td>4       </td><td>Other   </td><td>HomeImp </td></tr>\n",
       "\t<tr><th scope=row>4</th><td>1       </td><td>1500    </td><td>NULL    </td><td>NULL    </td><td>        </td><td>        </td><td>NULL    </td><td>NULL    </td><td>NULL    </td><td>NULL    </td><td>...     </td><td>34.81826</td><td>0       </td><td>0       </td><td>1500    </td><td>65019   </td><td>1       </td><td>89235.5 </td><td>7       </td><td>Other   </td><td>DebtCon </td></tr>\n",
       "\t<tr><th scope=row>5</th><td>0       </td><td>1700    </td><td>97800   </td><td>112000  </td><td>HomeImp </td><td>Office  </td><td>3       </td><td>0       </td><td>0       </td><td>93.33333</td><td>...     </td><td>34.81826</td><td>0       </td><td>0       </td><td>1700    </td><td>97800   </td><td>0       </td><td>112000  </td><td>3       </td><td>Office  </td><td>HomeImp </td></tr>\n",
       "</tbody>\n",
       "</table>\n"
      ],
      "text/latex": [
       "\\begin{tabular}{r|lllllllllllllllllllllllll}\n",
       "  & BAD & LOAN & MORTDUE & VALUE & REASON & JOB & YOJ & DEROG & DELINQ & CLAGE & ... & IMP\\_DEBTINC & IMP\\_DELINQ & IMP\\_DEROG & IMP\\_LOAN & IMP\\_MORTDUE & IMP\\_NINQ & IMP\\_VALUE & IMP\\_YOJ & IMP\\_JOB & IMP\\_REASON\\\\\n",
       "\\hline\n",
       "\t1 & 1        & 1100     & 25860    & 39025    & HomeImp  & Other    & 10.5     & 0        & 0        & 94.36667 & ...      & 34.81826 & 0        & 0        & 1100     & 25860    & 1        & 39025    & 10.5     & Other    & HomeImp \\\\\n",
       "\t2 & 1        & 1300     & 70053    & 68400    & HomeImp  & Other    & 7        & 0        & 2        & 121.8333 & ...      & 34.81826 & 2        & 0        & 1300     & 70053    & 0        & 68400    & 7        & Other    & HomeImp \\\\\n",
       "\t3 & 1        & 1500     & 13500    & 16700    & HomeImp  & Other    & 4        & 0        & 0        & 149.4667 & ...      & 34.81826 & 0        & 0        & 1500     & 13500    & 1        & 16700    & 4        & Other    & HomeImp \\\\\n",
       "\t4 & 1        & 1500     & NULL     & NULL     &          &          & NULL     & NULL     & NULL     & NULL     & ...      & 34.81826 & 0        & 0        & 1500     & 65019    & 1        & 89235.5  & 7        & Other    & DebtCon \\\\\n",
       "\t5 & 0        & 1700     & 97800    & 112000   & HomeImp  & Office   & 3        & 0        & 0        & 93.33333 & ...      & 34.81826 & 0        & 0        & 1700     & 97800    & 0        & 112000   & 3        & Office   & HomeImp \\\\\n",
       "\\end{tabular}\n"
      ],
      "text/markdown": [
       "\n",
       "| <!--/--> | BAD | LOAN | MORTDUE | VALUE | REASON | JOB | YOJ | DEROG | DELINQ | CLAGE | ... | IMP_DEBTINC | IMP_DELINQ | IMP_DEROG | IMP_LOAN | IMP_MORTDUE | IMP_NINQ | IMP_VALUE | IMP_YOJ | IMP_JOB | IMP_REASON | \n",
       "|---|---|---|---|---|\n",
       "| 1 | 1        | 1100     | 25860    | 39025    | HomeImp  | Other    | 10.5     | 0        | 0        | 94.36667 | ...      | 34.81826 | 0        | 0        | 1100     | 25860    | 1        | 39025    | 10.5     | Other    | HomeImp  | \n",
       "| 2 | 1        | 1300     | 70053    | 68400    | HomeImp  | Other    | 7        | 0        | 2        | 121.8333 | ...      | 34.81826 | 2        | 0        | 1300     | 70053    | 0        | 68400    | 7        | Other    | HomeImp  | \n",
       "| 3 | 1        | 1500     | 13500    | 16700    | HomeImp  | Other    | 4        | 0        | 0        | 149.4667 | ...      | 34.81826 | 0        | 0        | 1500     | 13500    | 1        | 16700    | 4        | Other    | HomeImp  | \n",
       "| 4 | 1        | 1500     | NULL     | NULL     |          |          | NULL     | NULL     | NULL     | NULL     | ...      | 34.81826 | 0        | 0        | 1500     | 65019    | 1        | 89235.5  | 7        | Other    | DebtCon  | \n",
       "| 5 | 0        | 1700     | 97800    | 112000   | HomeImp  | Office   | 3        | 0        | 0        | 93.33333 | ...      | 34.81826 | 0        | 0        | 1700     | 97800    | 0        | 112000   | 3        | Office   | HomeImp  | \n",
       "\n",
       "\n"
      ],
      "text/plain": [
       "  BAD LOAN MORTDUE VALUE  REASON  JOB    YOJ  DEROG DELINQ CLAGE    ...\n",
       "1 1   1100 25860   39025  HomeImp Other  10.5 0     0      94.36667 ...\n",
       "2 1   1300 70053   68400  HomeImp Other  7    0     2      121.8333 ...\n",
       "3 1   1500 13500   16700  HomeImp Other  4    0     0      149.4667 ...\n",
       "4 1   1500 NULL    NULL                  NULL NULL  NULL   NULL     ...\n",
       "5 0   1700 97800   112000 HomeImp Office 3    0     0      93.33333 ...\n",
       "  IMP_DEBTINC IMP_DELINQ IMP_DEROG IMP_LOAN IMP_MORTDUE IMP_NINQ IMP_VALUE\n",
       "1 34.81826    0          0         1100     25860       1        39025    \n",
       "2 34.81826    2          0         1300     70053       0        68400    \n",
       "3 34.81826    0          0         1500     13500       1        16700    \n",
       "4 34.81826    0          0         1500     65019       1        89235.5  \n",
       "5 34.81826    0          0         1700     97800       0        112000   \n",
       "  IMP_YOJ IMP_JOB IMP_REASON\n",
       "1 10.5    Other   HomeImp   \n",
       "2 7       Other   HomeImp   \n",
       "3 4       Other   HomeImp   \n",
       "4 7       Other   DebtCon   \n",
       "5 3       Office  HomeImp   "
      ]
     },
     "metadata": {},
     "output_type": "display_data"
    }
   ],
   "source": [
    "# Impute continuous values with median, nominal with mode\n",
    "casAction('dataPreprocess.impute', output = F, list(\n",
    "    table             = indata,\n",
    "    outVarsNamePrefix = 'IMP',\n",
    "    methodContinuous  = 'MEDIAN',\n",
    "    methodNominal     = 'MODE',\n",
    "    inputs            = unlist(data.card$VARNAME)[-1],\n",
    "    copyAllVars       = T,\n",
    "    casOut            = list(name = indata, replace = T)\n",
    "))\n",
    "\n",
    "# Make sure the imputation worked correctly\n",
    "fetch(indata, 5)"
   ]
  },
  {
   "cell_type": "markdown",
   "metadata": {},
   "source": [
    "## Partition the Data into Training and Validation Sets"
   ]
  },
  {
   "cell_type": "code",
   "execution_count": 11,
   "metadata": {
    "collapsed": false
   },
   "outputs": [
    {
     "name": "stdout",
     "output_type": "stream",
     "text": [
      "\n",
      "\n"
     ]
    },
    {
     "data": {
      "text/html": [
       "<ol>\n",
       "\t<li><ol>\n",
       "\t<li>'Result Set'</li>\n",
       "\t<li><table>\n",
       "<thead><tr><th scope=col>NAME</th><th scope=col>_PartInd_</th><th scope=col>OBS</th></tr></thead>\n",
       "<tbody>\n",
       "\t<tr><td>Training</td><td>1       </td><td>4172    </td></tr>\n",
       "\t<tr><td>Validation</td><td>0         </td><td>1788      </td></tr>\n",
       "</tbody>\n",
       "</table>\n",
       "</li>\n",
       "</ol>\n",
       "</li>\n",
       "</ol>\n"
      ],
      "text/latex": [
       "\\begin{enumerate}\n",
       "\\item \\begin{enumerate}\n",
       "\\item 'Result Set'\n",
       "\\item \\begin{tabular}{lll}\n",
       " NAME & \\_PartInd\\_ & OBS\\\\\n",
       "\\hline\n",
       "\t Training & 1        & 4172    \\\\\n",
       "\t Validation & 0          & 1788      \\\\\n",
       "\\end{tabular}\n",
       "\n",
       "\\end{enumerate}\n",
       "\n",
       "\\end{enumerate}\n"
      ],
      "text/markdown": [
       "1. 1. 'Result Set'\n",
       "2. \n",
       "NAME | _PartInd_ | OBS | \n",
       "|---|---|\n",
       "| Training | 1        | 4172     | \n",
       "| Validation | 0          | 1788       | \n",
       "\n",
       "\n",
       "\n",
       "\n",
       "\n",
       "\n",
       "\n",
       "\n"
      ],
      "text/plain": [
       "[[1]]\n",
       "[[1]][[1]]\n",
       "[1] \"Result Set\"\n",
       "\n",
       "[[1]][[2]]\n",
       "     NAME         _PartInd_ OBS \n",
       "[1,] \"Training\"   1         4172\n",
       "[2,] \"Validation\" 0         1788\n",
       "\n"
      ]
     },
     "metadata": {},
     "output_type": "display_data"
    }
   ],
   "source": [
    "# Partition the data\n",
    "casAction('sampling.srs', output = F, list(\n",
    "    table   = list(name = indata), \n",
    "    samppct = 70, \n",
    "    partind = T, \n",
    "    seed    = 68,\n",
    "    output  = list(casout = list(name = indata, replace = T), copyVars = \"ALL\")\n",
    "))\n",
    "\n",
    "# Make sure the partition worked correctly using SQL\n",
    "casAction('fedsql.execDirect', list(query = paste0(\"\n",
    "    SELECT \n",
    "        CASE WHEN _PartInd_ = 1 THEN 'Training' ELSE 'Validation' END AS name,\n",
    "        _PartInd_, \n",
    "        COUNT(*) AS obs \n",
    "    FROM \", indata, \"\n",
    "    GROUP BY \n",
    "        CASE WHEN _PartInd_ = 1 THEN 'Training' ELSE 'Validation' END,\n",
    "        _PartInd_;\n",
    "\")))"
   ]
  },
  {
   "cell_type": "markdown",
   "metadata": {},
   "source": [
    "# Build Models"
   ]
  },
  {
   "cell_type": "markdown",
   "metadata": {},
   "source": [
    "## Set Variable and Parameter Shortcuts"
   ]
  },
  {
   "cell_type": "code",
   "execution_count": 12,
   "metadata": {
    "collapsed": false
   },
   "outputs": [],
   "source": [
    "### For models that can handle missing values\n",
    "## Variable shortcuts\n",
    "target          <- unlist(data.card$VARNAME[1])\n",
    "class.inputs    <- unlist(subset(data.card, TYPE == 'C')$VARNAME)\n",
    "interval.inputs <- unlist(subset(data.card, TYPE == 'N')$VARNAME[-1])\n",
    "class.vars      <- c(target, class.inputs)\n",
    "all.inputs      <- c(class.inputs, interval.inputs)\n",
    "\n",
    "## Parameter shortcuts\n",
    "params <- list(\n",
    "    table    = list(name = indata, where = '_partind_ = 1'),\n",
    "    target   = target, \n",
    "    inputs   = all.inputs, \n",
    "    nominals = class.vars,\n",
    "    varImp   = T\n",
    ")\n",
    "\n",
    "### For models that cannot handle missing values\n",
    "## Variable shortcuts\n",
    "imp.class.inputs    <- paste0('IMP_', class.inputs)\n",
    "imp.interval.inputs <- paste0('IMP_', interval.inputs)\n",
    "imp.class.vars      <- c(target, imp.class.inputs)\n",
    "imp.all.inputs      <- c(imp.class.inputs, imp.interval.inputs)\n",
    "\n",
    "## Parameter shortcuts\n",
    "imp.params <- list(\n",
    "    table    = list(name = indata, where = '_partind_ = 1'),\n",
    "    target   = target, \n",
    "    inputs   = imp.all.inputs, \n",
    "    nominals = imp.class.vars\n",
    ")\n",
    "\n",
    "# Standard output table name function\n",
    "casOut <- function(model) {return(list(name = paste0(model,'_model'), replace = T))}"
   ]
  },
  {
   "cell_type": "markdown",
   "metadata": {},
   "source": [
    "## Decision Tree"
   ]
  },
  {
   "cell_type": "markdown",
   "metadata": {},
   "source": [
    "### Train"
   ]
  },
  {
   "cell_type": "code",
   "execution_count": 13,
   "metadata": {
    "collapsed": false,
    "scrolled": true
   },
   "outputs": [
    {
     "name": "stdout",
     "output_type": "stream",
     "text": [
      "\n"
     ]
    },
    {
     "data": {
      "text/html": [
       "<ol>\n",
       "\t<li><ol>\n",
       "\t<li>'DTreeVarImpInfo'</li>\n",
       "\t<li><table>\n",
       "<thead><tr><th scope=col>Variable</th><th scope=col>Importance</th><th scope=col>Std</th><th scope=col>Count</th></tr></thead>\n",
       "<tbody>\n",
       "\t<tr><td>DEBTINC </td><td>423.4964</td><td>179.39  </td><td>2       </td></tr>\n",
       "\t<tr><td>DELINQ  </td><td>44.64995</td><td>0       </td><td>1       </td></tr>\n",
       "\t<tr><td>CLNO    </td><td>10.51195</td><td>3.284298</td><td>2       </td></tr>\n",
       "\t<tr><td>DEROG    </td><td>8.072349 </td><td>0.1705609</td><td>2        </td></tr>\n",
       "</tbody>\n",
       "</table>\n",
       "</li>\n",
       "</ol>\n",
       "</li>\n",
       "\t<li><ol>\n",
       "\t<li>'ModelInfo'</li>\n",
       "\t<li><table>\n",
       "<thead><tr><th scope=col>Descr</th><th scope=col>Value</th></tr></thead>\n",
       "<tbody>\n",
       "\t<tr><td>Number of Tree Nodes</td><td>15                  </td></tr>\n",
       "\t<tr><td>Max Number of Branches</td><td>2                     </td></tr>\n",
       "\t<tr><td>Number of Levels</td><td>6               </td></tr>\n",
       "\t<tr><td>Number of Leaves</td><td>8               </td></tr>\n",
       "\t<tr><td>Number of Bins</td><td>20            </td></tr>\n",
       "\t<tr><td>Minimum Size of Leaves</td><td>5                     </td></tr>\n",
       "\t<tr><td>Maximum Size of Leaves</td><td>3188                  </td></tr>\n",
       "\t<tr><td>Number of Variables</td><td>12                 </td></tr>\n",
       "\t<tr><td>Confidence Level for Pruning</td><td>0.25                        </td></tr>\n",
       "\t<tr><td>Number of Observations Used</td><td>4172                       </td></tr>\n",
       "\t<tr><td>Misclassification Error (%)</td><td>14.42953                   </td></tr>\n",
       "</tbody>\n",
       "</table>\n",
       "</li>\n",
       "</ol>\n",
       "</li>\n",
       "\t<li><ol>\n",
       "\t<li>'OutputCasTables'</li>\n",
       "\t<li><table>\n",
       "<thead><tr><th scope=col>casLib</th><th scope=col>Name</th><th scope=col>Rows</th><th scope=col>Columns</th></tr></thead>\n",
       "<tbody>\n",
       "\t<tr><td>DMlib   </td><td>dt_model</td><td>15      </td><td>27      </td></tr>\n",
       "</tbody>\n",
       "</table>\n",
       "</li>\n",
       "</ol>\n",
       "</li>\n",
       "</ol>\n"
      ],
      "text/latex": [
       "\\begin{enumerate}\n",
       "\\item \\begin{enumerate}\n",
       "\\item 'DTreeVarImpInfo'\n",
       "\\item \\begin{tabular}{llll}\n",
       " Variable & Importance & Std & Count\\\\\n",
       "\\hline\n",
       "\t DEBTINC  & 423.4964 & 179.39   & 2       \\\\\n",
       "\t DELINQ   & 44.64995 & 0        & 1       \\\\\n",
       "\t CLNO     & 10.51195 & 3.284298 & 2       \\\\\n",
       "\t DEROG     & 8.072349  & 0.1705609 & 2        \\\\\n",
       "\\end{tabular}\n",
       "\n",
       "\\end{enumerate}\n",
       "\n",
       "\\item \\begin{enumerate}\n",
       "\\item 'ModelInfo'\n",
       "\\item \\begin{tabular}{ll}\n",
       " Descr & Value\\\\\n",
       "\\hline\n",
       "\t Number of Tree Nodes & 15                  \\\\\n",
       "\t Max Number of Branches & 2                     \\\\\n",
       "\t Number of Levels & 6               \\\\\n",
       "\t Number of Leaves & 8               \\\\\n",
       "\t Number of Bins & 20            \\\\\n",
       "\t Minimum Size of Leaves & 5                     \\\\\n",
       "\t Maximum Size of Leaves & 3188                  \\\\\n",
       "\t Number of Variables & 12                 \\\\\n",
       "\t Confidence Level for Pruning & 0.25                        \\\\\n",
       "\t Number of Observations Used & 4172                       \\\\\n",
       "\t Misclassification Error (\\%) & 14.42953                     \\\\\n",
       "\\end{tabular}\n",
       "\n",
       "\\end{enumerate}\n",
       "\n",
       "\\item \\begin{enumerate}\n",
       "\\item 'OutputCasTables'\n",
       "\\item \\begin{tabular}{llll}\n",
       " casLib & Name & Rows & Columns\\\\\n",
       "\\hline\n",
       "\t DMlib      & dt\\_model & 15         & 27        \\\\\n",
       "\\end{tabular}\n",
       "\n",
       "\\end{enumerate}\n",
       "\n",
       "\\end{enumerate}\n"
      ],
      "text/markdown": [
       "1. 1. 'DTreeVarImpInfo'\n",
       "2. \n",
       "Variable | Importance | Std | Count | \n",
       "|---|---|---|---|\n",
       "| DEBTINC  | 423.4964 | 179.39   | 2        | \n",
       "| DELINQ   | 44.64995 | 0        | 1        | \n",
       "| CLNO     | 10.51195 | 3.284298 | 2        | \n",
       "| DEROG     | 8.072349  | 0.1705609 | 2         | \n",
       "\n",
       "\n",
       "\n",
       "\n",
       "\n",
       "\n",
       "2. 1. 'ModelInfo'\n",
       "2. \n",
       "Descr | Value | \n",
       "|---|---|---|---|---|---|---|---|---|---|---|\n",
       "| Number of Tree Nodes | 15                   | \n",
       "| Max Number of Branches | 2                      | \n",
       "| Number of Levels | 6                | \n",
       "| Number of Leaves | 8                | \n",
       "| Number of Bins | 20             | \n",
       "| Minimum Size of Leaves | 5                      | \n",
       "| Maximum Size of Leaves | 3188                   | \n",
       "| Number of Variables | 12                  | \n",
       "| Confidence Level for Pruning | 0.25                         | \n",
       "| Number of Observations Used | 4172                        | \n",
       "| Misclassification Error (%) | 14.42953                    | \n",
       "\n",
       "\n",
       "\n",
       "\n",
       "\n",
       "\n",
       "3. 1. 'OutputCasTables'\n",
       "2. \n",
       "casLib | Name | Rows | Columns | \n",
       "|---|\n",
       "| DMlib    | dt_model | 15       | 27       | \n",
       "\n",
       "\n",
       "\n",
       "\n",
       "\n",
       "\n",
       "\n",
       "\n"
      ],
      "text/plain": [
       "[[1]]\n",
       "[[1]][[1]]\n",
       "[1] \"DTreeVarImpInfo\"\n",
       "\n",
       "[[1]][[2]]\n",
       "     Variable  Importance Std       Count\n",
       "[1,] \"DEBTINC\" 423.4964   179.39    2    \n",
       "[2,] \"DELINQ\"  44.64995   0         1    \n",
       "[3,] \"CLNO\"    10.51195   3.284298  2    \n",
       "[4,] \"DEROG\"   8.072349   0.1705609 2    \n",
       "\n",
       "\n",
       "[[2]]\n",
       "[[2]][[1]]\n",
       "[1] \"ModelInfo\"\n",
       "\n",
       "[[2]][[2]]\n",
       "      Descr                          Value   \n",
       " [1,] \"Number of Tree Nodes\"         15      \n",
       " [2,] \"Max Number of Branches\"       2       \n",
       " [3,] \"Number of Levels\"             6       \n",
       " [4,] \"Number of Leaves\"             8       \n",
       " [5,] \"Number of Bins\"               20      \n",
       " [6,] \"Minimum Size of Leaves\"       5       \n",
       " [7,] \"Maximum Size of Leaves\"       3188    \n",
       " [8,] \"Number of Variables\"          12      \n",
       " [9,] \"Confidence Level for Pruning\" 0.25    \n",
       "[10,] \"Number of Observations Used\"  4172    \n",
       "[11,] \"Misclassification Error (%)\"  14.42953\n",
       "\n",
       "\n",
       "[[3]]\n",
       "[[3]][[1]]\n",
       "[1] \"OutputCasTables\"\n",
       "\n",
       "[[3]][[2]]\n",
       "     casLib  Name       Rows Columns\n",
       "[1,] \"DMlib\" \"dt_model\" 15   27     \n",
       "\n"
      ]
     },
     "metadata": {},
     "output_type": "display_data"
    }
   ],
   "source": [
    "casAction('decisionTree.dtreeTrain', append(params, list(casOut = casOut('dt'))))"
   ]
  },
  {
   "cell_type": "markdown",
   "metadata": {},
   "source": [
    "### Score and Assess"
   ]
  },
  {
   "cell_type": "code",
   "execution_count": 14,
   "metadata": {
    "collapsed": false
   },
   "outputs": [
    {
     "name": "stdout",
     "output_type": "stream",
     "text": [
      "\n"
     ]
    },
    {
     "data": {
      "text/html": [
       "<table>\n",
       "<thead><tr><th scope=col>Model</th><th scope=col>Misclassification</th></tr></thead>\n",
       "<tbody>\n",
       "\t<tr><td>Decision Tree</td><td>0.12639821029</td></tr>\n",
       "</tbody>\n",
       "</table>\n"
      ],
      "text/latex": [
       "\\begin{tabular}{ll}\n",
       " Model & Misclassification\\\\\n",
       "\\hline\n",
       "\t Decision Tree & 0.12639821029\\\\\n",
       "\\end{tabular}\n"
      ],
      "text/markdown": [
       "\n",
       "Model | Misclassification | \n",
       "|---|\n",
       "| Decision Tree | 0.12639821029 | \n",
       "\n",
       "\n"
      ],
      "text/plain": [
       "     Model         Misclassification\n",
       "[1,] Decision Tree 0.12639821029    "
      ]
     },
     "metadata": {},
     "output_type": "display_data"
    }
   ],
   "source": [
    "MisclassificationPct <- data.frame(casAction('decisionTree.dtreeScore', header = F, list(\n",
    "    table      = list(name = indata, where = '_partind_ = 0'),\n",
    "    modelTable = 'dt_model'\n",
    ")))[3, 'Value']\n",
    "dt <- cbind(Model = 'Decision Tree', Misclassification = as.numeric(MisclassificationPct)/100)\n",
    "dt"
   ]
  },
  {
   "cell_type": "markdown",
   "metadata": {},
   "source": [
    "## Random Forest"
   ]
  },
  {
   "cell_type": "markdown",
   "metadata": {},
   "source": [
    "### Train"
   ]
  },
  {
   "cell_type": "code",
   "execution_count": 15,
   "metadata": {
    "collapsed": false,
    "scrolled": true
   },
   "outputs": [
    {
     "name": "stdout",
     "output_type": "stream",
     "text": [
      "\n"
     ]
    },
    {
     "data": {
      "text/html": [
       "<ol>\n",
       "\t<li><ol>\n",
       "\t<li>'DTreeVarImpInfo'</li>\n",
       "\t<li><table>\n",
       "<thead><tr><th scope=col>Variable</th><th scope=col>Importance</th><th scope=col>Std</th></tr></thead>\n",
       "<tbody>\n",
       "\t<tr><td>DEBTINC </td><td>145.8296</td><td>101.7453</td></tr>\n",
       "\t<tr><td>DELINQ  </td><td>35.11743</td><td>14.46916</td></tr>\n",
       "\t<tr><td>DEROG   </td><td>19.78063</td><td>11.18193</td></tr>\n",
       "\t<tr><td>VALUE   </td><td>6.015498</td><td>13.81041</td></tr>\n",
       "\t<tr><td>CLNO    </td><td>5.426453</td><td>3.833829</td></tr>\n",
       "\t<tr><td>NINQ    </td><td>3.32611 </td><td>6.121774</td></tr>\n",
       "\t<tr><td>LOAN    </td><td>1.596384</td><td>5.951966</td></tr>\n",
       "\t<tr><td>JOB     </td><td>1.372034</td><td>4.842406</td></tr>\n",
       "\t<tr><td>CLAGE   </td><td>1.214892</td><td>8.147505</td></tr>\n",
       "\t<tr><td>YOJ      </td><td>0.8273734</td><td>1.521188 </td></tr>\n",
       "\t<tr><td>MORTDUE  </td><td>0.6350535</td><td>2.359116 </td></tr>\n",
       "\t<tr><td>REASON   </td><td>0.1266697</td><td>1.013656 </td></tr>\n",
       "</tbody>\n",
       "</table>\n",
       "</li>\n",
       "</ol>\n",
       "</li>\n",
       "\t<li><ol>\n",
       "\t<li>'ModelInfo'</li>\n",
       "\t<li><table>\n",
       "<thead><tr><th scope=col>Descr</th><th scope=col>Value</th></tr></thead>\n",
       "<tbody>\n",
       "\t<tr><td>Number of Trees</td><td>50             </td></tr>\n",
       "\t<tr><td>Number of Selected Variables (M)</td><td>4                               </td></tr>\n",
       "\t<tr><td>Random Number Seed</td><td>0                 </td></tr>\n",
       "\t<tr><td>Bootstrap Percentage (%)</td><td>63.21206                </td></tr>\n",
       "\t<tr><td>Number of Bins</td><td>20            </td></tr>\n",
       "\t<tr><td>Number of Variables</td><td>12                 </td></tr>\n",
       "\t<tr><td>Confidence Level for Pruning</td><td>0.25                        </td></tr>\n",
       "\t<tr><td>Max Number of Tree Nodes</td><td>33                      </td></tr>\n",
       "\t<tr><td>Min Number of Tree Nodes</td><td>11                      </td></tr>\n",
       "\t<tr><td>Max Number of Branches</td><td>2                     </td></tr>\n",
       "\t<tr><td>Min Number of Branches</td><td>2                     </td></tr>\n",
       "\t<tr><td>Max Number of Levels</td><td>6                   </td></tr>\n",
       "\t<tr><td>Min Number of Levels</td><td>6                   </td></tr>\n",
       "\t<tr><td>Max Number of Leaves</td><td>17                  </td></tr>\n",
       "\t<tr><td>Min Number of Leaves</td><td>6                   </td></tr>\n",
       "\t<tr><td>Maximum Size of Leaves</td><td>2582                  </td></tr>\n",
       "\t<tr><td>Minimum Size of Leaves</td><td>5                     </td></tr>\n",
       "\t<tr><td>Out-of-Bag MCR (%)</td><td>NULL              </td></tr>\n",
       "</tbody>\n",
       "</table>\n",
       "</li>\n",
       "</ol>\n",
       "</li>\n",
       "\t<li><ol>\n",
       "\t<li>'OutputCasTables'</li>\n",
       "\t<li><table>\n",
       "<thead><tr><th scope=col>casLib</th><th scope=col>Name</th><th scope=col>Rows</th><th scope=col>Columns</th></tr></thead>\n",
       "<tbody>\n",
       "\t<tr><td>DMlib   </td><td>rf_model</td><td>830     </td><td>41      </td></tr>\n",
       "</tbody>\n",
       "</table>\n",
       "</li>\n",
       "</ol>\n",
       "</li>\n",
       "</ol>\n"
      ],
      "text/latex": [
       "\\begin{enumerate}\n",
       "\\item \\begin{enumerate}\n",
       "\\item 'DTreeVarImpInfo'\n",
       "\\item \\begin{tabular}{lll}\n",
       " Variable & Importance & Std\\\\\n",
       "\\hline\n",
       "\t DEBTINC  & 145.8296 & 101.7453\\\\\n",
       "\t DELINQ   & 35.11743 & 14.46916\\\\\n",
       "\t DEROG    & 19.78063 & 11.18193\\\\\n",
       "\t VALUE    & 6.015498 & 13.81041\\\\\n",
       "\t CLNO     & 5.426453 & 3.833829\\\\\n",
       "\t NINQ     & 3.32611  & 6.121774\\\\\n",
       "\t LOAN     & 1.596384 & 5.951966\\\\\n",
       "\t JOB      & 1.372034 & 4.842406\\\\\n",
       "\t CLAGE    & 1.214892 & 8.147505\\\\\n",
       "\t YOJ       & 0.8273734 & 1.521188 \\\\\n",
       "\t MORTDUE   & 0.6350535 & 2.359116 \\\\\n",
       "\t REASON    & 0.1266697 & 1.013656 \\\\\n",
       "\\end{tabular}\n",
       "\n",
       "\\end{enumerate}\n",
       "\n",
       "\\item \\begin{enumerate}\n",
       "\\item 'ModelInfo'\n",
       "\\item \\begin{tabular}{ll}\n",
       " Descr & Value\\\\\n",
       "\\hline\n",
       "\t Number of Trees & 50             \\\\\n",
       "\t Number of Selected Variables (M) & 4                               \\\\\n",
       "\t Random Number Seed & 0                 \\\\\n",
       "\t Bootstrap Percentage (\\%) & 63.21206                  \\\\\n",
       "\t Number of Bins & 20            \\\\\n",
       "\t Number of Variables & 12                 \\\\\n",
       "\t Confidence Level for Pruning & 0.25                        \\\\\n",
       "\t Max Number of Tree Nodes & 33                      \\\\\n",
       "\t Min Number of Tree Nodes & 11                      \\\\\n",
       "\t Max Number of Branches & 2                     \\\\\n",
       "\t Min Number of Branches & 2                     \\\\\n",
       "\t Max Number of Levels & 6                   \\\\\n",
       "\t Min Number of Levels & 6                   \\\\\n",
       "\t Max Number of Leaves & 17                  \\\\\n",
       "\t Min Number of Leaves & 6                   \\\\\n",
       "\t Maximum Size of Leaves & 2582                  \\\\\n",
       "\t Minimum Size of Leaves & 5                     \\\\\n",
       "\t Out-of-Bag MCR (\\%) & NULL                \\\\\n",
       "\\end{tabular}\n",
       "\n",
       "\\end{enumerate}\n",
       "\n",
       "\\item \\begin{enumerate}\n",
       "\\item 'OutputCasTables'\n",
       "\\item \\begin{tabular}{llll}\n",
       " casLib & Name & Rows & Columns\\\\\n",
       "\\hline\n",
       "\t DMlib      & rf\\_model & 830        & 41        \\\\\n",
       "\\end{tabular}\n",
       "\n",
       "\\end{enumerate}\n",
       "\n",
       "\\end{enumerate}\n"
      ],
      "text/markdown": [
       "1. 1. 'DTreeVarImpInfo'\n",
       "2. \n",
       "Variable | Importance | Std | \n",
       "|---|---|---|---|---|---|---|---|---|---|---|---|\n",
       "| DEBTINC  | 145.8296 | 101.7453 | \n",
       "| DELINQ   | 35.11743 | 14.46916 | \n",
       "| DEROG    | 19.78063 | 11.18193 | \n",
       "| VALUE    | 6.015498 | 13.81041 | \n",
       "| CLNO     | 5.426453 | 3.833829 | \n",
       "| NINQ     | 3.32611  | 6.121774 | \n",
       "| LOAN     | 1.596384 | 5.951966 | \n",
       "| JOB      | 1.372034 | 4.842406 | \n",
       "| CLAGE    | 1.214892 | 8.147505 | \n",
       "| YOJ       | 0.8273734 | 1.521188  | \n",
       "| MORTDUE   | 0.6350535 | 2.359116  | \n",
       "| REASON    | 0.1266697 | 1.013656  | \n",
       "\n",
       "\n",
       "\n",
       "\n",
       "\n",
       "\n",
       "2. 1. 'ModelInfo'\n",
       "2. \n",
       "Descr | Value | \n",
       "|---|---|---|---|---|---|---|---|---|---|---|---|---|---|---|---|---|---|\n",
       "| Number of Trees | 50              | \n",
       "| Number of Selected Variables (M) | 4                                | \n",
       "| Random Number Seed | 0                  | \n",
       "| Bootstrap Percentage (%) | 63.21206                 | \n",
       "| Number of Bins | 20             | \n",
       "| Number of Variables | 12                  | \n",
       "| Confidence Level for Pruning | 0.25                         | \n",
       "| Max Number of Tree Nodes | 33                       | \n",
       "| Min Number of Tree Nodes | 11                       | \n",
       "| Max Number of Branches | 2                      | \n",
       "| Min Number of Branches | 2                      | \n",
       "| Max Number of Levels | 6                    | \n",
       "| Min Number of Levels | 6                    | \n",
       "| Max Number of Leaves | 17                   | \n",
       "| Min Number of Leaves | 6                    | \n",
       "| Maximum Size of Leaves | 2582                   | \n",
       "| Minimum Size of Leaves | 5                      | \n",
       "| Out-of-Bag MCR (%) | NULL               | \n",
       "\n",
       "\n",
       "\n",
       "\n",
       "\n",
       "\n",
       "3. 1. 'OutputCasTables'\n",
       "2. \n",
       "casLib | Name | Rows | Columns | \n",
       "|---|\n",
       "| DMlib    | rf_model | 830      | 41       | \n",
       "\n",
       "\n",
       "\n",
       "\n",
       "\n",
       "\n",
       "\n",
       "\n"
      ],
      "text/plain": [
       "[[1]]\n",
       "[[1]][[1]]\n",
       "[1] \"DTreeVarImpInfo\"\n",
       "\n",
       "[[1]][[2]]\n",
       "      Variable  Importance Std     \n",
       " [1,] \"DEBTINC\" 145.8296   101.7453\n",
       " [2,] \"DELINQ\"  35.11743   14.46916\n",
       " [3,] \"DEROG\"   19.78063   11.18193\n",
       " [4,] \"VALUE\"   6.015498   13.81041\n",
       " [5,] \"CLNO\"    5.426453   3.833829\n",
       " [6,] \"NINQ\"    3.32611    6.121774\n",
       " [7,] \"LOAN\"    1.596384   5.951966\n",
       " [8,] \"JOB\"     1.372034   4.842406\n",
       " [9,] \"CLAGE\"   1.214892   8.147505\n",
       "[10,] \"YOJ\"     0.8273734  1.521188\n",
       "[11,] \"MORTDUE\" 0.6350535  2.359116\n",
       "[12,] \"REASON\"  0.1266697  1.013656\n",
       "\n",
       "\n",
       "[[2]]\n",
       "[[2]][[1]]\n",
       "[1] \"ModelInfo\"\n",
       "\n",
       "[[2]][[2]]\n",
       "      Descr                              Value   \n",
       " [1,] \"Number of Trees\"                  50      \n",
       " [2,] \"Number of Selected Variables (M)\" 4       \n",
       " [3,] \"Random Number Seed\"               0       \n",
       " [4,] \"Bootstrap Percentage (%)\"         63.21206\n",
       " [5,] \"Number of Bins\"                   20      \n",
       " [6,] \"Number of Variables\"              12      \n",
       " [7,] \"Confidence Level for Pruning\"     0.25    \n",
       " [8,] \"Max Number of Tree Nodes\"         33      \n",
       " [9,] \"Min Number of Tree Nodes\"         11      \n",
       "[10,] \"Max Number of Branches\"           2       \n",
       "[11,] \"Min Number of Branches\"           2       \n",
       "[12,] \"Max Number of Levels\"             6       \n",
       "[13,] \"Min Number of Levels\"             6       \n",
       "[14,] \"Max Number of Leaves\"             17      \n",
       "[15,] \"Min Number of Leaves\"             6       \n",
       "[16,] \"Maximum Size of Leaves\"           2582    \n",
       "[17,] \"Minimum Size of Leaves\"           5       \n",
       "[18,] \"Out-of-Bag MCR (%)\"               NULL    \n",
       "\n",
       "\n",
       "[[3]]\n",
       "[[3]][[1]]\n",
       "[1] \"OutputCasTables\"\n",
       "\n",
       "[[3]][[2]]\n",
       "     casLib  Name       Rows Columns\n",
       "[1,] \"DMlib\" \"rf_model\" 830  41     \n",
       "\n"
      ]
     },
     "metadata": {},
     "output_type": "display_data"
    }
   ],
   "source": [
    "casAction('decisionTree.forestTrain', append(params, list(casOut = casOut('rf'))))"
   ]
  },
  {
   "cell_type": "markdown",
   "metadata": {},
   "source": [
    "### Score and Assess"
   ]
  },
  {
   "cell_type": "code",
   "execution_count": 16,
   "metadata": {
    "collapsed": false,
    "scrolled": true
   },
   "outputs": [
    {
     "name": "stdout",
     "output_type": "stream",
     "text": [
      "\n"
     ]
    },
    {
     "data": {
      "text/html": [
       "<table>\n",
       "<thead><tr><th scope=col>Model</th><th scope=col>Misclassification</th></tr></thead>\n",
       "<tbody>\n",
       "\t<tr><td>Random Forest</td><td>0.12751677852</td></tr>\n",
       "</tbody>\n",
       "</table>\n"
      ],
      "text/latex": [
       "\\begin{tabular}{ll}\n",
       " Model & Misclassification\\\\\n",
       "\\hline\n",
       "\t Random Forest & 0.12751677852\\\\\n",
       "\\end{tabular}\n"
      ],
      "text/markdown": [
       "\n",
       "Model | Misclassification | \n",
       "|---|\n",
       "| Random Forest | 0.12751677852 | \n",
       "\n",
       "\n"
      ],
      "text/plain": [
       "     Model         Misclassification\n",
       "[1,] Random Forest 0.12751677852    "
      ]
     },
     "metadata": {},
     "output_type": "display_data"
    }
   ],
   "source": [
    "MisclassificationPct <- data.frame(casAction('decisionTree.forestScore', header = F, list(\n",
    "    table      = list(name = indata, where = '_partind_ = 0'), \n",
    "    modelTable = 'rf_model'\n",
    ")))[3, 'Value']\n",
    "rf <- cbind(Model = 'Random Forest', Misclassification = as.numeric(MisclassificationPct)/100)\n",
    "rf"
   ]
  },
  {
   "cell_type": "markdown",
   "metadata": {},
   "source": [
    "## Gradient Boosting"
   ]
  },
  {
   "cell_type": "markdown",
   "metadata": {},
   "source": [
    "### Train"
   ]
  },
  {
   "cell_type": "code",
   "execution_count": 17,
   "metadata": {
    "collapsed": false,
    "scrolled": true
   },
   "outputs": [
    {
     "name": "stdout",
     "output_type": "stream",
     "text": [
      "\n"
     ]
    },
    {
     "data": {
      "text/html": [
       "<ol>\n",
       "\t<li><ol>\n",
       "\t<li>'DTreeVarImpInfo'</li>\n",
       "\t<li><table>\n",
       "<thead><tr><th scope=col>Variable</th><th scope=col>Importance</th><th scope=col>Std</th></tr></thead>\n",
       "<tbody>\n",
       "\t<tr><td>DEBTINC </td><td>35.50955</td><td>44.07172</td></tr>\n",
       "\t<tr><td>DELINQ  </td><td>8.218795</td><td>5.071519</td></tr>\n",
       "\t<tr><td>JOB     </td><td>7.450607</td><td>1.825477</td></tr>\n",
       "\t<tr><td>CLAGE   </td><td>6.950221</td><td>2.393559</td></tr>\n",
       "\t<tr><td>CLNO    </td><td>5.56095 </td><td>1.295386</td></tr>\n",
       "\t<tr><td>YOJ     </td><td>4.896468</td><td>1.597273</td></tr>\n",
       "\t<tr><td>VALUE   </td><td>4.328092</td><td>2.022971</td></tr>\n",
       "\t<tr><td>LOAN    </td><td>4.104148</td><td>1.501752</td></tr>\n",
       "\t<tr><td>DEROG   </td><td>4.092265</td><td>2.928396</td></tr>\n",
       "\t<tr><td>MORTDUE </td><td>3.205846</td><td>1.201196</td></tr>\n",
       "\t<tr><td>NINQ    </td><td>2.792951</td><td>1.533211</td></tr>\n",
       "\t<tr><td>REASON  </td><td>1.642977</td><td>1.356769</td></tr>\n",
       "</tbody>\n",
       "</table>\n",
       "</li>\n",
       "</ol>\n",
       "</li>\n",
       "\t<li><ol>\n",
       "\t<li>'ModelInfo'</li>\n",
       "\t<li><table>\n",
       "<thead><tr><th scope=col>Descr</th><th scope=col>Value</th></tr></thead>\n",
       "<tbody>\n",
       "\t<tr><td>Number of Trees</td><td>50             </td></tr>\n",
       "\t<tr><td>Distribution</td><td>2           </td></tr>\n",
       "\t<tr><td>Learning Rate</td><td>0.1          </td></tr>\n",
       "\t<tr><td>Subsampling Rate</td><td>0.5             </td></tr>\n",
       "\t<tr><td>Number of Selected Variables (M)</td><td>12                              </td></tr>\n",
       "\t<tr><td>Number of Bins</td><td>20            </td></tr>\n",
       "\t<tr><td>Number of Variables</td><td>12                 </td></tr>\n",
       "\t<tr><td>Max Number of Tree Nodes</td><td>63                      </td></tr>\n",
       "\t<tr><td>Min Number of Tree Nodes</td><td>27                      </td></tr>\n",
       "\t<tr><td>Max Number of Branches</td><td>2                     </td></tr>\n",
       "\t<tr><td>Min Number of Branches</td><td>2                     </td></tr>\n",
       "\t<tr><td>Max Number of Levels</td><td>6                   </td></tr>\n",
       "\t<tr><td>Min Number of Levels</td><td>6                   </td></tr>\n",
       "\t<tr><td>Max Number of Leaves</td><td>32                  </td></tr>\n",
       "\t<tr><td>Min Number of Leaves</td><td>14                  </td></tr>\n",
       "\t<tr><td>Maximum Size of Leaves</td><td>1668                  </td></tr>\n",
       "\t<tr><td>Minimum Size of Leaves</td><td>5                     </td></tr>\n",
       "\t<tr><td>Random Number Seed</td><td>7                 </td></tr>\n",
       "</tbody>\n",
       "</table>\n",
       "</li>\n",
       "</ol>\n",
       "</li>\n",
       "\t<li><ol>\n",
       "\t<li>'OutputCasTables'</li>\n",
       "\t<li><table>\n",
       "<thead><tr><th scope=col>casLib</th><th scope=col>Name</th><th scope=col>Rows</th><th scope=col>Columns</th></tr></thead>\n",
       "<tbody>\n",
       "\t<tr><td>DMlib    </td><td>gbt_model</td><td>2478     </td><td>31       </td></tr>\n",
       "</tbody>\n",
       "</table>\n",
       "</li>\n",
       "</ol>\n",
       "</li>\n",
       "</ol>\n"
      ],
      "text/latex": [
       "\\begin{enumerate}\n",
       "\\item \\begin{enumerate}\n",
       "\\item 'DTreeVarImpInfo'\n",
       "\\item \\begin{tabular}{lll}\n",
       " Variable & Importance & Std\\\\\n",
       "\\hline\n",
       "\t DEBTINC  & 35.50955 & 44.07172\\\\\n",
       "\t DELINQ   & 8.218795 & 5.071519\\\\\n",
       "\t JOB      & 7.450607 & 1.825477\\\\\n",
       "\t CLAGE    & 6.950221 & 2.393559\\\\\n",
       "\t CLNO     & 5.56095  & 1.295386\\\\\n",
       "\t YOJ      & 4.896468 & 1.597273\\\\\n",
       "\t VALUE    & 4.328092 & 2.022971\\\\\n",
       "\t LOAN     & 4.104148 & 1.501752\\\\\n",
       "\t DEROG    & 4.092265 & 2.928396\\\\\n",
       "\t MORTDUE  & 3.205846 & 1.201196\\\\\n",
       "\t NINQ     & 2.792951 & 1.533211\\\\\n",
       "\t REASON   & 1.642977 & 1.356769\\\\\n",
       "\\end{tabular}\n",
       "\n",
       "\\end{enumerate}\n",
       "\n",
       "\\item \\begin{enumerate}\n",
       "\\item 'ModelInfo'\n",
       "\\item \\begin{tabular}{ll}\n",
       " Descr & Value\\\\\n",
       "\\hline\n",
       "\t Number of Trees & 50             \\\\\n",
       "\t Distribution & 2           \\\\\n",
       "\t Learning Rate & 0.1          \\\\\n",
       "\t Subsampling Rate & 0.5             \\\\\n",
       "\t Number of Selected Variables (M) & 12                              \\\\\n",
       "\t Number of Bins & 20            \\\\\n",
       "\t Number of Variables & 12                 \\\\\n",
       "\t Max Number of Tree Nodes & 63                      \\\\\n",
       "\t Min Number of Tree Nodes & 27                      \\\\\n",
       "\t Max Number of Branches & 2                     \\\\\n",
       "\t Min Number of Branches & 2                     \\\\\n",
       "\t Max Number of Levels & 6                   \\\\\n",
       "\t Min Number of Levels & 6                   \\\\\n",
       "\t Max Number of Leaves & 32                  \\\\\n",
       "\t Min Number of Leaves & 14                  \\\\\n",
       "\t Maximum Size of Leaves & 1668                  \\\\\n",
       "\t Minimum Size of Leaves & 5                     \\\\\n",
       "\t Random Number Seed & 7                 \\\\\n",
       "\\end{tabular}\n",
       "\n",
       "\\end{enumerate}\n",
       "\n",
       "\\item \\begin{enumerate}\n",
       "\\item 'OutputCasTables'\n",
       "\\item \\begin{tabular}{llll}\n",
       " casLib & Name & Rows & Columns\\\\\n",
       "\\hline\n",
       "\t DMlib       & gbt\\_model & 2478        & 31         \\\\\n",
       "\\end{tabular}\n",
       "\n",
       "\\end{enumerate}\n",
       "\n",
       "\\end{enumerate}\n"
      ],
      "text/markdown": [
       "1. 1. 'DTreeVarImpInfo'\n",
       "2. \n",
       "Variable | Importance | Std | \n",
       "|---|---|---|---|---|---|---|---|---|---|---|---|\n",
       "| DEBTINC  | 35.50955 | 44.07172 | \n",
       "| DELINQ   | 8.218795 | 5.071519 | \n",
       "| JOB      | 7.450607 | 1.825477 | \n",
       "| CLAGE    | 6.950221 | 2.393559 | \n",
       "| CLNO     | 5.56095  | 1.295386 | \n",
       "| YOJ      | 4.896468 | 1.597273 | \n",
       "| VALUE    | 4.328092 | 2.022971 | \n",
       "| LOAN     | 4.104148 | 1.501752 | \n",
       "| DEROG    | 4.092265 | 2.928396 | \n",
       "| MORTDUE  | 3.205846 | 1.201196 | \n",
       "| NINQ     | 2.792951 | 1.533211 | \n",
       "| REASON   | 1.642977 | 1.356769 | \n",
       "\n",
       "\n",
       "\n",
       "\n",
       "\n",
       "\n",
       "2. 1. 'ModelInfo'\n",
       "2. \n",
       "Descr | Value | \n",
       "|---|---|---|---|---|---|---|---|---|---|---|---|---|---|---|---|---|---|\n",
       "| Number of Trees | 50              | \n",
       "| Distribution | 2            | \n",
       "| Learning Rate | 0.1           | \n",
       "| Subsampling Rate | 0.5              | \n",
       "| Number of Selected Variables (M) | 12                               | \n",
       "| Number of Bins | 20             | \n",
       "| Number of Variables | 12                  | \n",
       "| Max Number of Tree Nodes | 63                       | \n",
       "| Min Number of Tree Nodes | 27                       | \n",
       "| Max Number of Branches | 2                      | \n",
       "| Min Number of Branches | 2                      | \n",
       "| Max Number of Levels | 6                    | \n",
       "| Min Number of Levels | 6                    | \n",
       "| Max Number of Leaves | 32                   | \n",
       "| Min Number of Leaves | 14                   | \n",
       "| Maximum Size of Leaves | 1668                   | \n",
       "| Minimum Size of Leaves | 5                      | \n",
       "| Random Number Seed | 7                  | \n",
       "\n",
       "\n",
       "\n",
       "\n",
       "\n",
       "\n",
       "3. 1. 'OutputCasTables'\n",
       "2. \n",
       "casLib | Name | Rows | Columns | \n",
       "|---|\n",
       "| DMlib     | gbt_model | 2478      | 31        | \n",
       "\n",
       "\n",
       "\n",
       "\n",
       "\n",
       "\n",
       "\n",
       "\n"
      ],
      "text/plain": [
       "[[1]]\n",
       "[[1]][[1]]\n",
       "[1] \"DTreeVarImpInfo\"\n",
       "\n",
       "[[1]][[2]]\n",
       "      Variable  Importance Std     \n",
       " [1,] \"DEBTINC\" 35.50955   44.07172\n",
       " [2,] \"DELINQ\"  8.218795   5.071519\n",
       " [3,] \"JOB\"     7.450607   1.825477\n",
       " [4,] \"CLAGE\"   6.950221   2.393559\n",
       " [5,] \"CLNO\"    5.56095    1.295386\n",
       " [6,] \"YOJ\"     4.896468   1.597273\n",
       " [7,] \"VALUE\"   4.328092   2.022971\n",
       " [8,] \"LOAN\"    4.104148   1.501752\n",
       " [9,] \"DEROG\"   4.092265   2.928396\n",
       "[10,] \"MORTDUE\" 3.205846   1.201196\n",
       "[11,] \"NINQ\"    2.792951   1.533211\n",
       "[12,] \"REASON\"  1.642977   1.356769\n",
       "\n",
       "\n",
       "[[2]]\n",
       "[[2]][[1]]\n",
       "[1] \"ModelInfo\"\n",
       "\n",
       "[[2]][[2]]\n",
       "      Descr                              Value\n",
       " [1,] \"Number of Trees\"                  50   \n",
       " [2,] \"Distribution\"                     2    \n",
       " [3,] \"Learning Rate\"                    0.1  \n",
       " [4,] \"Subsampling Rate\"                 0.5  \n",
       " [5,] \"Number of Selected Variables (M)\" 12   \n",
       " [6,] \"Number of Bins\"                   20   \n",
       " [7,] \"Number of Variables\"              12   \n",
       " [8,] \"Max Number of Tree Nodes\"         63   \n",
       " [9,] \"Min Number of Tree Nodes\"         27   \n",
       "[10,] \"Max Number of Branches\"           2    \n",
       "[11,] \"Min Number of Branches\"           2    \n",
       "[12,] \"Max Number of Levels\"             6    \n",
       "[13,] \"Min Number of Levels\"             6    \n",
       "[14,] \"Max Number of Leaves\"             32   \n",
       "[15,] \"Min Number of Leaves\"             14   \n",
       "[16,] \"Maximum Size of Leaves\"           1668 \n",
       "[17,] \"Minimum Size of Leaves\"           5    \n",
       "[18,] \"Random Number Seed\"               7    \n",
       "\n",
       "\n",
       "[[3]]\n",
       "[[3]][[1]]\n",
       "[1] \"OutputCasTables\"\n",
       "\n",
       "[[3]][[2]]\n",
       "     casLib  Name        Rows Columns\n",
       "[1,] \"DMlib\" \"gbt_model\" 2478 31     \n",
       "\n"
      ]
     },
     "metadata": {},
     "output_type": "display_data"
    }
   ],
   "source": [
    "casAction('decisionTree.gbtreeTrain', append(params, list(seed = 7, casOut = casOut('gbt'))))"
   ]
  },
  {
   "cell_type": "markdown",
   "metadata": {},
   "source": [
    "### Score and Assess"
   ]
  },
  {
   "cell_type": "code",
   "execution_count": 18,
   "metadata": {
    "collapsed": false
   },
   "outputs": [
    {
     "name": "stdout",
     "output_type": "stream",
     "text": [
      "\n"
     ]
    },
    {
     "data": {
      "text/html": [
       "<table>\n",
       "<thead><tr><th scope=col>Model</th><th scope=col>Misclassification</th></tr></thead>\n",
       "<tbody>\n",
       "\t<tr><td>Gradient Boosting</td><td>0.084451901566   </td></tr>\n",
       "</tbody>\n",
       "</table>\n"
      ],
      "text/latex": [
       "\\begin{tabular}{ll}\n",
       " Model & Misclassification\\\\\n",
       "\\hline\n",
       "\t Gradient Boosting & 0.084451901566   \\\\\n",
       "\\end{tabular}\n"
      ],
      "text/markdown": [
       "\n",
       "Model | Misclassification | \n",
       "|---|\n",
       "| Gradient Boosting | 0.084451901566    | \n",
       "\n",
       "\n"
      ],
      "text/plain": [
       "     Model             Misclassification\n",
       "[1,] Gradient Boosting 0.084451901566   "
      ]
     },
     "metadata": {},
     "output_type": "display_data"
    }
   ],
   "source": [
    "MisclassificationPct <- data.frame(casAction('decisionTree.gbtreeScore', list(\n",
    "    table      = list(name = indata, where = '_partind_ = 0'),\n",
    "    modelTable = 'gbt_model'\n",
    "))[2])[3, 'Value']\n",
    "gbt <- cbind(Model = 'Gradient Boosting', Misclassification = as.numeric(MisclassificationPct)/100)\n",
    "gbt"
   ]
  },
  {
   "cell_type": "markdown",
   "metadata": {},
   "source": [
    "## Neural Network"
   ]
  },
  {
   "cell_type": "markdown",
   "metadata": {},
   "source": [
    "### Train"
   ]
  },
  {
   "cell_type": "code",
   "execution_count": 19,
   "metadata": {
    "collapsed": false,
    "scrolled": true
   },
   "outputs": [
    {
     "name": "stdout",
     "output_type": "stream",
     "text": [
      "\n"
     ]
    },
    {
     "data": {
      "text/html": [
       "<ol>\n",
       "\t<li><ol>\n",
       "\t<li>'ConvergenceStatus'</li>\n",
       "\t<li><table>\n",
       "<thead><tr><th scope=col>Reason</th></tr></thead>\n",
       "<tbody>\n",
       "\t<tr><td>The optimization exited on maximum iterations.</td></tr>\n",
       "</tbody>\n",
       "</table>\n",
       "</li>\n",
       "</ol>\n",
       "</li>\n",
       "\t<li><ol>\n",
       "\t<li>'ModelInfo'</li>\n",
       "\t<li><table>\n",
       "<thead><tr><th scope=col>Descr</th><th scope=col>Value</th></tr></thead>\n",
       "<tbody>\n",
       "\t<tr><td>Model     </td><td>Neural Net</td></tr>\n",
       "\t<tr><td>Number of Observations Used</td><td>4172                       </td></tr>\n",
       "\t<tr><td>Number of Observations Read</td><td>4172                       </td></tr>\n",
       "\t<tr><td>Target/Response Variable</td><td>BAD                     </td></tr>\n",
       "\t<tr><td>Number of Nodes</td><td>20             </td></tr>\n",
       "\t<tr><td>Number of Input Nodes</td><td>18                   </td></tr>\n",
       "\t<tr><td>Number of Output Nodes</td><td>2                     </td></tr>\n",
       "\t<tr><td>Number of Hidden Nodes</td><td>0                     </td></tr>\n",
       "\t<tr><td>Number of Weight Parameters</td><td>18                         </td></tr>\n",
       "\t<tr><td>Number of Bias Parameters</td><td>2                        </td></tr>\n",
       "\t<tr><td>Architecture</td><td>GLIM        </td></tr>\n",
       "\t<tr><td>Number of Neural Nets</td><td>1                    </td></tr>\n",
       "\t<tr><td>Objective Value</td><td>1.5770969207   </td></tr>\n",
       "</tbody>\n",
       "</table>\n",
       "</li>\n",
       "</ol>\n",
       "</li>\n",
       "\t<li><ol>\n",
       "\t<li>'OptIterHistory'</li>\n",
       "\t<li><table>\n",
       "<thead><tr><th scope=col>Progress</th><th scope=col>Objective</th><th scope=col>Loss</th></tr></thead>\n",
       "<tbody>\n",
       "\t<tr><td>1       </td><td>4.499834</td><td>4.499834</td></tr>\n",
       "\t<tr><td>2       </td><td>2.813818</td><td>2.813818</td></tr>\n",
       "\t<tr><td>3       </td><td>1.743715</td><td>1.743715</td></tr>\n",
       "\t<tr><td>4      </td><td>1.64579</td><td>1.64579</td></tr>\n",
       "\t<tr><td>5       </td><td>1.608081</td><td>1.608081</td></tr>\n",
       "\t<tr><td>6       </td><td>1.595154</td><td>1.595154</td></tr>\n",
       "\t<tr><td>7       </td><td>1.583373</td><td>1.583373</td></tr>\n",
       "\t<tr><td>8       </td><td>1.580727</td><td>1.580727</td></tr>\n",
       "\t<tr><td>9       </td><td>1.577442</td><td>1.577442</td></tr>\n",
       "\t<tr><td>10      </td><td>1.577097</td><td>1.577097</td></tr>\n",
       "</tbody>\n",
       "</table>\n",
       "</li>\n",
       "</ol>\n",
       "</li>\n",
       "\t<li><ol>\n",
       "\t<li>'OutputCasTables'</li>\n",
       "\t<li><table>\n",
       "<thead><tr><th scope=col>casLib</th><th scope=col>Name</th><th scope=col>Rows</th><th scope=col>Columns</th></tr></thead>\n",
       "<tbody>\n",
       "\t<tr><td>DMlib   </td><td>nn_model</td><td>20      </td><td>15      </td></tr>\n",
       "</tbody>\n",
       "</table>\n",
       "</li>\n",
       "</ol>\n",
       "</li>\n",
       "</ol>\n"
      ],
      "text/latex": [
       "\\begin{enumerate}\n",
       "\\item \\begin{enumerate}\n",
       "\\item 'ConvergenceStatus'\n",
       "\\item \\begin{tabular}{l}\n",
       " Reason\\\\\n",
       "\\hline\n",
       "\t The optimization exited on maximum iterations.\\\\\n",
       "\\end{tabular}\n",
       "\n",
       "\\end{enumerate}\n",
       "\n",
       "\\item \\begin{enumerate}\n",
       "\\item 'ModelInfo'\n",
       "\\item \\begin{tabular}{ll}\n",
       " Descr & Value\\\\\n",
       "\\hline\n",
       "\t Model      & Neural Net\\\\\n",
       "\t Number of Observations Used & 4172                       \\\\\n",
       "\t Number of Observations Read & 4172                       \\\\\n",
       "\t Target/Response Variable & BAD                     \\\\\n",
       "\t Number of Nodes & 20             \\\\\n",
       "\t Number of Input Nodes & 18                   \\\\\n",
       "\t Number of Output Nodes & 2                     \\\\\n",
       "\t Number of Hidden Nodes & 0                     \\\\\n",
       "\t Number of Weight Parameters & 18                         \\\\\n",
       "\t Number of Bias Parameters & 2                        \\\\\n",
       "\t Architecture & GLIM        \\\\\n",
       "\t Number of Neural Nets & 1                    \\\\\n",
       "\t Objective Value & 1.5770969207   \\\\\n",
       "\\end{tabular}\n",
       "\n",
       "\\end{enumerate}\n",
       "\n",
       "\\item \\begin{enumerate}\n",
       "\\item 'OptIterHistory'\n",
       "\\item \\begin{tabular}{lll}\n",
       " Progress & Objective & Loss\\\\\n",
       "\\hline\n",
       "\t 1        & 4.499834 & 4.499834\\\\\n",
       "\t 2        & 2.813818 & 2.813818\\\\\n",
       "\t 3        & 1.743715 & 1.743715\\\\\n",
       "\t 4       & 1.64579 & 1.64579\\\\\n",
       "\t 5        & 1.608081 & 1.608081\\\\\n",
       "\t 6        & 1.595154 & 1.595154\\\\\n",
       "\t 7        & 1.583373 & 1.583373\\\\\n",
       "\t 8        & 1.580727 & 1.580727\\\\\n",
       "\t 9        & 1.577442 & 1.577442\\\\\n",
       "\t 10       & 1.577097 & 1.577097\\\\\n",
       "\\end{tabular}\n",
       "\n",
       "\\end{enumerate}\n",
       "\n",
       "\\item \\begin{enumerate}\n",
       "\\item 'OutputCasTables'\n",
       "\\item \\begin{tabular}{llll}\n",
       " casLib & Name & Rows & Columns\\\\\n",
       "\\hline\n",
       "\t DMlib      & nn\\_model & 20         & 15        \\\\\n",
       "\\end{tabular}\n",
       "\n",
       "\\end{enumerate}\n",
       "\n",
       "\\end{enumerate}\n"
      ],
      "text/markdown": [
       "1. 1. 'ConvergenceStatus'\n",
       "2. \n",
       "Reason | \n",
       "|---|\n",
       "| The optimization exited on maximum iterations. | \n",
       "\n",
       "\n",
       "\n",
       "\n",
       "\n",
       "\n",
       "2. 1. 'ModelInfo'\n",
       "2. \n",
       "Descr | Value | \n",
       "|---|---|---|---|---|---|---|---|---|---|---|---|---|\n",
       "| Model      | Neural Net | \n",
       "| Number of Observations Used | 4172                        | \n",
       "| Number of Observations Read | 4172                        | \n",
       "| Target/Response Variable | BAD                      | \n",
       "| Number of Nodes | 20              | \n",
       "| Number of Input Nodes | 18                    | \n",
       "| Number of Output Nodes | 2                      | \n",
       "| Number of Hidden Nodes | 0                      | \n",
       "| Number of Weight Parameters | 18                          | \n",
       "| Number of Bias Parameters | 2                         | \n",
       "| Architecture | GLIM         | \n",
       "| Number of Neural Nets | 1                     | \n",
       "| Objective Value | 1.5770969207    | \n",
       "\n",
       "\n",
       "\n",
       "\n",
       "\n",
       "\n",
       "3. 1. 'OptIterHistory'\n",
       "2. \n",
       "Progress | Objective | Loss | \n",
       "|---|---|---|---|---|---|---|---|---|---|\n",
       "| 1        | 4.499834 | 4.499834 | \n",
       "| 2        | 2.813818 | 2.813818 | \n",
       "| 3        | 1.743715 | 1.743715 | \n",
       "| 4       | 1.64579 | 1.64579 | \n",
       "| 5        | 1.608081 | 1.608081 | \n",
       "| 6        | 1.595154 | 1.595154 | \n",
       "| 7        | 1.583373 | 1.583373 | \n",
       "| 8        | 1.580727 | 1.580727 | \n",
       "| 9        | 1.577442 | 1.577442 | \n",
       "| 10       | 1.577097 | 1.577097 | \n",
       "\n",
       "\n",
       "\n",
       "\n",
       "\n",
       "\n",
       "4. 1. 'OutputCasTables'\n",
       "2. \n",
       "casLib | Name | Rows | Columns | \n",
       "|---|\n",
       "| DMlib    | nn_model | 20       | 15       | \n",
       "\n",
       "\n",
       "\n",
       "\n",
       "\n",
       "\n",
       "\n",
       "\n"
      ],
      "text/plain": [
       "[[1]]\n",
       "[[1]][[1]]\n",
       "[1] \"ConvergenceStatus\"\n",
       "\n",
       "[[1]][[2]]\n",
       "     Reason                                          \n",
       "[1,] \"The optimization exited on maximum iterations.\"\n",
       "\n",
       "\n",
       "[[2]]\n",
       "[[2]][[1]]\n",
       "[1] \"ModelInfo\"\n",
       "\n",
       "[[2]][[2]]\n",
       "      Descr                         Value         \n",
       " [1,] \"Model\"                       \"Neural Net\"  \n",
       " [2,] \"Number of Observations Used\" \"4172\"        \n",
       " [3,] \"Number of Observations Read\" \"4172\"        \n",
       " [4,] \"Target/Response Variable\"    \"BAD\"         \n",
       " [5,] \"Number of Nodes\"             \"20\"          \n",
       " [6,] \"Number of Input Nodes\"       \"18\"          \n",
       " [7,] \"Number of Output Nodes\"      \"2\"           \n",
       " [8,] \"Number of Hidden Nodes\"      \"0\"           \n",
       " [9,] \"Number of Weight Parameters\" \"18\"          \n",
       "[10,] \"Number of Bias Parameters\"   \"2\"           \n",
       "[11,] \"Architecture\"                \"GLIM\"        \n",
       "[12,] \"Number of Neural Nets\"       \"1\"           \n",
       "[13,] \"Objective Value\"             \"1.5770969207\"\n",
       "\n",
       "\n",
       "[[3]]\n",
       "[[3]][[1]]\n",
       "[1] \"OptIterHistory\"\n",
       "\n",
       "[[3]][[2]]\n",
       "      Progress Objective Loss    \n",
       " [1,] 1        4.499834  4.499834\n",
       " [2,] 2        2.813818  2.813818\n",
       " [3,] 3        1.743715  1.743715\n",
       " [4,] 4        1.64579   1.64579 \n",
       " [5,] 5        1.608081  1.608081\n",
       " [6,] 6        1.595154  1.595154\n",
       " [7,] 7        1.583373  1.583373\n",
       " [8,] 8        1.580727  1.580727\n",
       " [9,] 9        1.577442  1.577442\n",
       "[10,] 10       1.577097  1.577097\n",
       "\n",
       "\n",
       "[[4]]\n",
       "[[4]][[1]]\n",
       "[1] \"OutputCasTables\"\n",
       "\n",
       "[[4]][[2]]\n",
       "     casLib  Name       Rows Columns\n",
       "[1,] \"DMlib\" \"nn_model\" 20   15     \n",
       "\n"
      ]
     },
     "metadata": {},
     "output_type": "display_data"
    }
   ],
   "source": [
    "casAction('neuralNet.annTrain', append(imp.params, list(casOut = casOut('nn'))))"
   ]
  },
  {
   "cell_type": "markdown",
   "metadata": {},
   "source": [
    "### Score and Assess"
   ]
  },
  {
   "cell_type": "code",
   "execution_count": 20,
   "metadata": {
    "collapsed": false
   },
   "outputs": [
    {
     "name": "stdout",
     "output_type": "stream",
     "text": [
      "\n"
     ]
    },
    {
     "data": {
      "text/html": [
       "<table>\n",
       "<thead><tr><th scope=col>Model</th><th scope=col>Misclassification</th></tr></thead>\n",
       "<tbody>\n",
       "\t<tr><td>Neural Network</td><td>0.15771812081 </td></tr>\n",
       "</tbody>\n",
       "</table>\n"
      ],
      "text/latex": [
       "\\begin{tabular}{ll}\n",
       " Model & Misclassification\\\\\n",
       "\\hline\n",
       "\t Neural Network & 0.15771812081 \\\\\n",
       "\\end{tabular}\n"
      ],
      "text/markdown": [
       "\n",
       "Model | Misclassification | \n",
       "|---|\n",
       "| Neural Network | 0.15771812081  | \n",
       "\n",
       "\n"
      ],
      "text/plain": [
       "     Model          Misclassification\n",
       "[1,] Neural Network 0.15771812081    "
      ]
     },
     "metadata": {},
     "output_type": "display_data"
    }
   ],
   "source": [
    "MisclassificationPct <- data.frame(casAction('neuralNet.annScore', list(\n",
    "    table      = list(name = indata, where = '_partind_ = 0'),\n",
    "    modelTable = 'nn_model'\n",
    ")))[3, 'Value']\n",
    "nn <- cbind(Model = 'Neural Network', Misclassification = as.numeric(MisclassificationPct)/100)\n",
    "nn"
   ]
  },
  {
   "cell_type": "markdown",
   "metadata": {},
   "source": [
    "## CAS Final Assessment"
   ]
  },
  {
   "cell_type": "code",
   "execution_count": 21,
   "metadata": {
    "collapsed": false,
    "scrolled": true
   },
   "outputs": [
    {
     "data": {
      "text/html": [
       "<table>\n",
       "<thead><tr><th scope=col>Model</th><th scope=col>Misclassification</th></tr></thead>\n",
       "<tbody>\n",
       "\t<tr><td>Gradient Boosting</td><td>0.084451901566   </td></tr>\n",
       "\t<tr><td>Decision Tree    </td><td>0.12639821029    </td></tr>\n",
       "\t<tr><td>Random Forest    </td><td>0.12751677852    </td></tr>\n",
       "\t<tr><td>Neural Network   </td><td>0.15771812081    </td></tr>\n",
       "</tbody>\n",
       "</table>\n"
      ],
      "text/latex": [
       "\\begin{tabular}{r|ll}\n",
       " Model & Misclassification\\\\\n",
       "\\hline\n",
       "\t Gradient Boosting & 0.084451901566   \\\\\n",
       "\t Decision Tree     & 0.12639821029    \\\\\n",
       "\t Random Forest     & 0.12751677852    \\\\\n",
       "\t Neural Network    & 0.15771812081    \\\\\n",
       "\\end{tabular}\n"
      ],
      "text/markdown": [
       "\n",
       "Model | Misclassification | \n",
       "|---|---|---|---|\n",
       "| Gradient Boosting | 0.084451901566    | \n",
       "| Decision Tree     | 0.12639821029     | \n",
       "| Random Forest     | 0.12751677852     | \n",
       "| Neural Network    | 0.15771812081     | \n",
       "\n",
       "\n"
      ],
      "text/plain": [
       "  Model             Misclassification\n",
       "1 Gradient Boosting 0.084451901566   \n",
       "2 Decision Tree     0.12639821029    \n",
       "3 Random Forest     0.12751677852    \n",
       "4 Neural Network    0.15771812081    "
      ]
     },
     "metadata": {},
     "output_type": "display_data"
    }
   ],
   "source": [
    "# Combine the assessments and order by most accurate on validation data\n",
    "miss <- data.frame(rbind(dt, rf, gbt, nn))\n",
    "miss <- miss[order((miss[,'Misclassification'])),]\n",
    "rownames(miss) <- NULL\n",
    "miss"
   ]
  },
  {
   "cell_type": "markdown",
   "metadata": {},
   "source": [
    "## Compare XGBoost Model"
   ]
  },
  {
   "cell_type": "code",
   "execution_count": 22,
   "metadata": {
    "collapsed": false,
    "scrolled": true
   },
   "outputs": [
    {
     "name": "stdout",
     "output_type": "stream",
     "text": [
      "\n",
      "\n",
      "\n",
      "\n",
      "[0]\ttrain-error:0.117450\n",
      "[1]\ttrain-error:0.124640\n",
      "[2]\ttrain-error:0.116970\n",
      "[3]\ttrain-error:0.123921\n",
      "[4]\ttrain-error:0.125839\n",
      "[5]\ttrain-error:0.121764\n",
      "[6]\ttrain-error:0.123202\n",
      "[7]\ttrain-error:0.112416\n",
      "[8]\ttrain-error:0.107383\n",
      "[9]\ttrain-error:0.104746\n",
      "[10]\ttrain-error:0.097076\n",
      "[11]\ttrain-error:0.096357\n",
      "[12]\ttrain-error:0.091802\n",
      "[13]\ttrain-error:0.087728\n",
      "[14]\ttrain-error:0.086050\n",
      "[15]\ttrain-error:0.083174\n",
      "[16]\ttrain-error:0.083653\n",
      "[17]\ttrain-error:0.085331\n",
      "[18]\ttrain-error:0.083893\n",
      "[19]\ttrain-error:0.081016\n",
      "[20]\ttrain-error:0.080777\n",
      "[21]\ttrain-error:0.079099\n",
      "[22]\ttrain-error:0.076942\n",
      "[23]\ttrain-error:0.076702\n",
      "[24]\ttrain-error:0.075743\n",
      "[25]\ttrain-error:0.074784\n",
      "[26]\ttrain-error:0.075983\n",
      "[27]\ttrain-error:0.073826\n",
      "[28]\ttrain-error:0.072627\n",
      "[29]\ttrain-error:0.073106\n",
      "[30]\ttrain-error:0.074065\n",
      "[31]\ttrain-error:0.070949\n",
      "[32]\ttrain-error:0.070230\n",
      "[33]\ttrain-error:0.070230\n",
      "[34]\ttrain-error:0.069511\n",
      "[35]\ttrain-error:0.068552\n",
      "[36]\ttrain-error:0.066635\n",
      "[37]\ttrain-error:0.067354\n",
      "[38]\ttrain-error:0.065676\n",
      "[39]\ttrain-error:0.066155\n",
      "[40]\ttrain-error:0.066155\n",
      "[41]\ttrain-error:0.065436\n",
      "[42]\ttrain-error:0.063998\n",
      "[43]\ttrain-error:0.064238\n",
      "[44]\ttrain-error:0.061601\n",
      "[45]\ttrain-error:0.062081\n",
      "[46]\ttrain-error:0.060642\n",
      "[47]\ttrain-error:0.059444\n",
      "[48]\ttrain-error:0.059923\n",
      "[49]\ttrain-error:0.060403\n"
     ]
    }
   ],
   "source": [
    "# Load additional packages\n",
    "suppressPackageStartupMessages(library(caret))\n",
    "suppressPackageStartupMessages(library(xgboost))\n",
    "\n",
    "# Bring data locally and make sure it's in the right format\n",
    "df <- toFrame(indata)\n",
    "df <- df[c(target, class.inputs, interval.inputs, 'PartInd')]\n",
    "    \n",
    "# Create dummy variables through one-hot encoding\n",
    "df.dum <- df[,class.inputs]\n",
    "dummies <- dummyVars('~ .', data = df.dum)\n",
    "df.ohe <- as.data.frame(predict(dummies, newdata = df))\n",
    "df.all.combined <- cbind(df[,-c(which(colnames(df) %in% class.inputs))], df.ohe)\n",
    "    \n",
    "# Split into training and validation\n",
    "train <- subset(df.all.combined, PartInd == '1')\n",
    "valid <- subset(df.all.combined, PartInd == '0')\n",
    "    \n",
    "# Train the XGBoost model\n",
    "set.seed(7)\n",
    "xgboost <- xgboost(\n",
    "    data = data.matrix(train[,-1]),\n",
    "    label = data.matrix(train[,1]),\n",
    "    missing = 'NAN',\n",
    "    nround = 50,\n",
    "    objective = \"binary:logistic\",\n",
    "    eta = 0.1,\n",
    "    max_depth = 6,  \n",
    "    subsample = 0.5,\n",
    "    colsample_bytree = 0.5,\n",
    "    seed = 7\n",
    ")"
   ]
  },
  {
   "cell_type": "markdown",
   "metadata": {},
   "source": [
    "## Score and Assess XGBoost on Validation Data"
   ]
  },
  {
   "cell_type": "code",
   "execution_count": 23,
   "metadata": {
    "collapsed": false
   },
   "outputs": [
    {
     "data": {
      "text/html": [
       "<table>\n",
       "<thead><tr><th scope=col>Model</th><th scope=col>Misclassification</th></tr></thead>\n",
       "<tbody>\n",
       "\t<tr><td>R - XGBoost       </td><td>0.0844519015659955</td></tr>\n",
       "</tbody>\n",
       "</table>\n"
      ],
      "text/latex": [
       "\\begin{tabular}{ll}\n",
       " Model & Misclassification\\\\\n",
       "\\hline\n",
       "\t R - XGBoost        & 0.0844519015659955\\\\\n",
       "\\end{tabular}\n"
      ],
      "text/markdown": [
       "\n",
       "Model | Misclassification | \n",
       "|---|\n",
       "| R - XGBoost        | 0.0844519015659955 | \n",
       "\n",
       "\n"
      ],
      "text/plain": [
       "     Model       Misclassification \n",
       "[1,] R - XGBoost 0.0844519015659955"
      ]
     },
     "metadata": {},
     "output_type": "display_data"
    }
   ],
   "source": [
    "pred <- as.numeric(predict(xgboost, data.matrix(valid[,-1]), missing = 'NAN') > 0.5)\n",
    "Misclassification <- mean(as.numeric(pred > 0.5) != valid[,1])\n",
    "xgb <- cbind(Model = 'R - XGBoost', Misclassification)\n",
    "xgb"
   ]
  },
  {
   "cell_type": "markdown",
   "metadata": {},
   "source": [
    "## Final CAS and R Assessment"
   ]
  },
  {
   "cell_type": "code",
   "execution_count": 24,
   "metadata": {
    "collapsed": false
   },
   "outputs": [
    {
     "data": {
      "text/html": [
       "<table>\n",
       "<thead><tr><th scope=col>Model</th><th scope=col>Misclassification</th></tr></thead>\n",
       "<tbody>\n",
       "\t<tr><td>Gradient Boosting</td><td>0.08445190157    </td></tr>\n",
       "\t<tr><td>R - XGBoost      </td><td>0.08445190157    </td></tr>\n",
       "\t<tr><td>Decision Tree    </td><td>0.12639821029    </td></tr>\n",
       "\t<tr><td>Random Forest    </td><td>0.12751677852    </td></tr>\n",
       "\t<tr><td>Neural Network   </td><td>0.15771812081    </td></tr>\n",
       "</tbody>\n",
       "</table>\n"
      ],
      "text/latex": [
       "\\begin{tabular}{r|ll}\n",
       " Model & Misclassification\\\\\n",
       "\\hline\n",
       "\t Gradient Boosting & 0.08445190157    \\\\\n",
       "\t R - XGBoost       & 0.08445190157    \\\\\n",
       "\t Decision Tree     & 0.12639821029    \\\\\n",
       "\t Random Forest     & 0.12751677852    \\\\\n",
       "\t Neural Network    & 0.15771812081    \\\\\n",
       "\\end{tabular}\n"
      ],
      "text/markdown": [
       "\n",
       "Model | Misclassification | \n",
       "|---|---|---|---|---|\n",
       "| Gradient Boosting | 0.08445190157     | \n",
       "| R - XGBoost       | 0.08445190157     | \n",
       "| Decision Tree     | 0.12639821029     | \n",
       "| Random Forest     | 0.12751677852     | \n",
       "| Neural Network    | 0.15771812081     | \n",
       "\n",
       "\n"
      ],
      "text/plain": [
       "  Model             Misclassification\n",
       "1 Gradient Boosting 0.08445190157    \n",
       "2 R - XGBoost       0.08445190157    \n",
       "3 Decision Tree     0.12639821029    \n",
       "4 Random Forest     0.12751677852    \n",
       "5 Neural Network    0.15771812081    "
      ]
     },
     "metadata": {},
     "output_type": "display_data"
    }
   ],
   "source": [
    "# Combine the assessments and order by most accurate on validation data\n",
    "err <- data.frame(rbind(dt, rf, gbt, nn, xgb))\n",
    "err[,-1] <- as.character(round(as.numeric(as.character(err[,-1])),11))\n",
    "err <- err[order(err$Misclassification),]\n",
    "rownames(err) <- NULL\n",
    "err"
   ]
  },
  {
   "cell_type": "markdown",
   "metadata": {},
   "source": [
    "## Deploy the CAS Gradient Boosting Model"
   ]
  },
  {
   "cell_type": "code",
   "execution_count": 25,
   "metadata": {
    "collapsed": false
   },
   "outputs": [
    {
     "name": "stdout",
     "output_type": "stream",
     "text": [
      "\n"
     ]
    },
    {
     "data": {
      "text/html": [
       "'NOTE: Cloud Analytic Services saved the file gbt_scorecode.sashdat in caslib DMlib.\n",
       "'"
      ],
      "text/latex": [
       "'NOTE: Cloud Analytic Services saved the file gbt\\_scorecode.sashdat in caslib DMlib.\n",
       "'"
      ],
      "text/markdown": [
       "'NOTE: Cloud Analytic Services saved the file gbt_scorecode.sashdat in caslib DMlib.\n",
       "'"
      ],
      "text/plain": [
       "[1] \"NOTE: Cloud Analytic Services saved the file gbt_scorecode.sashdat in caslib DMlib.\\n\""
      ]
     },
     "metadata": {},
     "output_type": "display_data"
    }
   ],
   "source": [
    "# Generate score code to be operationalized\n",
    "unload <- makeRequest('table.save', list(table = 'gbt_model', name = 'gbt_scorecode', replace = T))\n",
    "content(unload)$log"
   ]
  },
  {
   "cell_type": "markdown",
   "metadata": {},
   "source": [
    "## End Session"
   ]
  },
  {
   "cell_type": "code",
   "execution_count": 26,
   "metadata": {
    "collapsed": false
   },
   "outputs": [
    {
     "name": "stdout",
     "output_type": "stream",
     "text": [
      "\n"
     ]
    },
    {
     "data": {
      "text/html": [
       "<ol>\n",
       "</ol>\n"
      ],
      "text/latex": [
       "\\begin{enumerate}\n",
       "\\end{enumerate}\n"
      ],
      "text/markdown": [
       "\n",
       "\n"
      ],
      "text/plain": [
       "list()"
      ]
     },
     "metadata": {},
     "output_type": "display_data"
    }
   ],
   "source": [
    "casAction('session.endSession', list())"
   ]
  }
 ],
 "metadata": {
  "anaconda-cloud": {},
  "celltoolbar": "Raw Cell Format",
  "kernelspec": {
   "display_name": "R",
   "language": "R",
   "name": "ir"
  },
  "language_info": {
   "codemirror_mode": "r",
   "file_extension": ".r",
   "mimetype": "text/x-r-source",
   "name": "R",
   "pygments_lexer": "r",
   "version": "3.3.2"
  }
 },
 "nbformat": 4,
 "nbformat_minor": 0
}
